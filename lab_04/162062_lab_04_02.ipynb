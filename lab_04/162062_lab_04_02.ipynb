{
 "cells": [
  {
   "cell_type": "markdown",
   "source": [
    "# Adam Trentowski - 162602 - Machine Learning\n",
    "## lab_04/02\n",
    "## Library Imports"
   ],
   "metadata": {
    "collapsed": false
   },
   "id": "c0e10fef95dbaf5d"
  },
  {
   "cell_type": "code",
   "execution_count": 14,
   "id": "initial_id",
   "metadata": {
    "collapsed": true,
    "ExecuteTime": {
     "end_time": "2025-03-27T16:59:42.883200Z",
     "start_time": "2025-03-27T16:59:42.876913Z"
    }
   },
   "outputs": [],
   "source": [
    "import numpy as np\n",
    "import pandas as pd\n",
    "from sklearn.model_selection import train_test_split, cross_val_score, KFold, StratifiedKFold, ShuffleSplit\n",
    "from sklearn import svm\n",
    "from sklearn.tree import DecisionTreeClassifier\n",
    "import warnings\n",
    "from sklearn.neighbors import KNeighborsClassifier\n",
    "from sklearn import metrics\n",
    "from sklearn.linear_model import LogisticRegression\n",
    "\n",
    "warnings.filterwarnings('ignore')"
   ]
  },
  {
   "cell_type": "markdown",
   "source": [
    "## Data loading"
   ],
   "metadata": {
    "collapsed": false
   },
   "id": "9fa6cf05a0174fd5"
  },
  {
   "cell_type": "code",
   "outputs": [],
   "source": [
    "data = pd.read_csv('VLagun_Phys_Years3.csv')"
   ],
   "metadata": {
    "collapsed": false,
    "ExecuteTime": {
     "end_time": "2025-03-27T16:54:13.653110Z",
     "start_time": "2025-03-27T16:54:13.640762Z"
    }
   },
   "id": "a3f28dacff3b4a79",
   "execution_count": 3
  },
  {
   "cell_type": "code",
   "outputs": [
    {
     "data": {
      "text/plain": "        PSU     O2  temp.    SS    DOC    TPOC  Windspeedinsitu  Depth  Years\n0  3.757624   9.46   18.3  52.0  7.500  8.5650              3.5    3.3      0\n1  3.504707   9.89   19.1  50.0  7.860  8.5200              0.0    3.6      0\n2  3.757624   9.66   18.1  59.0  8.172  8.4915              1.0    3.4      0\n3  3.107266  10.36   19.5  46.0  7.848  8.8320              0.0    2.9      0\n4  2.619498  11.56   19.0  42.0  7.536  9.2400              0.0    3.0      0",
      "text/html": "<div>\n<style scoped>\n    .dataframe tbody tr th:only-of-type {\n        vertical-align: middle;\n    }\n\n    .dataframe tbody tr th {\n        vertical-align: top;\n    }\n\n    .dataframe thead th {\n        text-align: right;\n    }\n</style>\n<table border=\"1\" class=\"dataframe\">\n  <thead>\n    <tr style=\"text-align: right;\">\n      <th></th>\n      <th>PSU</th>\n      <th>O2</th>\n      <th>temp.</th>\n      <th>SS</th>\n      <th>DOC</th>\n      <th>TPOC</th>\n      <th>Windspeedinsitu</th>\n      <th>Depth</th>\n      <th>Years</th>\n    </tr>\n  </thead>\n  <tbody>\n    <tr>\n      <th>0</th>\n      <td>3.757624</td>\n      <td>9.46</td>\n      <td>18.3</td>\n      <td>52.0</td>\n      <td>7.500</td>\n      <td>8.5650</td>\n      <td>3.5</td>\n      <td>3.3</td>\n      <td>0</td>\n    </tr>\n    <tr>\n      <th>1</th>\n      <td>3.504707</td>\n      <td>9.89</td>\n      <td>19.1</td>\n      <td>50.0</td>\n      <td>7.860</td>\n      <td>8.5200</td>\n      <td>0.0</td>\n      <td>3.6</td>\n      <td>0</td>\n    </tr>\n    <tr>\n      <th>2</th>\n      <td>3.757624</td>\n      <td>9.66</td>\n      <td>18.1</td>\n      <td>59.0</td>\n      <td>8.172</td>\n      <td>8.4915</td>\n      <td>1.0</td>\n      <td>3.4</td>\n      <td>0</td>\n    </tr>\n    <tr>\n      <th>3</th>\n      <td>3.107266</td>\n      <td>10.36</td>\n      <td>19.5</td>\n      <td>46.0</td>\n      <td>7.848</td>\n      <td>8.8320</td>\n      <td>0.0</td>\n      <td>2.9</td>\n      <td>0</td>\n    </tr>\n    <tr>\n      <th>4</th>\n      <td>2.619498</td>\n      <td>11.56</td>\n      <td>19.0</td>\n      <td>42.0</td>\n      <td>7.536</td>\n      <td>9.2400</td>\n      <td>0.0</td>\n      <td>3.0</td>\n      <td>0</td>\n    </tr>\n  </tbody>\n</table>\n</div>"
     },
     "execution_count": 4,
     "metadata": {},
     "output_type": "execute_result"
    }
   ],
   "source": [
    "data.head()"
   ],
   "metadata": {
    "collapsed": false,
    "ExecuteTime": {
     "end_time": "2025-03-27T16:54:15.100710Z",
     "start_time": "2025-03-27T16:54:15.080135Z"
    }
   },
   "id": "b76610a274f4b418",
   "execution_count": 4
  },
  {
   "cell_type": "markdown",
   "source": [
    "## Splitting features and target"
   ],
   "metadata": {
    "collapsed": false
   },
   "id": "4b5103b2f13eef69"
  },
  {
   "cell_type": "code",
   "outputs": [],
   "source": [
    "X = data.iloc[:, :-1]\n",
    "y = data.iloc[:, -1]"
   ],
   "metadata": {
    "collapsed": false,
    "ExecuteTime": {
     "end_time": "2025-03-27T16:54:18.710084Z",
     "start_time": "2025-03-27T16:54:18.701727Z"
    }
   },
   "id": "b86d4cb47ab6be7c",
   "execution_count": 5
  },
  {
   "cell_type": "code",
   "outputs": [
    {
     "data": {
      "text/plain": "((120, 8), (120,))"
     },
     "execution_count": 6,
     "metadata": {},
     "output_type": "execute_result"
    }
   ],
   "source": [
    "X.shape, y.shape"
   ],
   "metadata": {
    "collapsed": false,
    "ExecuteTime": {
     "end_time": "2025-03-27T16:54:23.075465Z",
     "start_time": "2025-03-27T16:54:23.067878Z"
    }
   },
   "id": "9def1392e7b49be0",
   "execution_count": 6
  },
  {
   "cell_type": "markdown",
   "source": [
    "## Splitting data to train and test sets"
   ],
   "metadata": {
    "collapsed": false
   },
   "id": "4e292a85d53140b"
  },
  {
   "cell_type": "code",
   "outputs": [],
   "source": [
    "X_train, X_test, y_train, y_test = train_test_split(X, y, test_size=0.3, random_state=0)"
   ],
   "metadata": {
    "collapsed": false,
    "ExecuteTime": {
     "end_time": "2025-03-27T16:54:37.036037Z",
     "start_time": "2025-03-27T16:54:37.027870Z"
    }
   },
   "id": "dcba677c9d9a5281",
   "execution_count": 7
  },
  {
   "cell_type": "code",
   "outputs": [
    {
     "data": {
      "text/plain": "((84, 8), (84,))"
     },
     "execution_count": 8,
     "metadata": {},
     "output_type": "execute_result"
    }
   ],
   "source": [
    "X_train.shape, y_train.shape"
   ],
   "metadata": {
    "collapsed": false,
    "ExecuteTime": {
     "end_time": "2025-03-27T16:54:52.035939Z",
     "start_time": "2025-03-27T16:54:52.027292Z"
    }
   },
   "id": "c5d377b54aa8d159",
   "execution_count": 8
  },
  {
   "cell_type": "code",
   "outputs": [
    {
     "data": {
      "text/plain": "((36, 8), (36,))"
     },
     "execution_count": 9,
     "metadata": {},
     "output_type": "execute_result"
    }
   ],
   "source": [
    "X_test.shape, y_test.shape"
   ],
   "metadata": {
    "collapsed": false,
    "ExecuteTime": {
     "end_time": "2025-03-27T16:55:04.336023Z",
     "start_time": "2025-03-27T16:55:04.327926Z"
    }
   },
   "id": "1465ca8f948c1e94",
   "execution_count": 9
  },
  {
   "cell_type": "code",
   "outputs": [
    {
     "data": {
      "text/plain": "0.9444444444444444"
     },
     "execution_count": 10,
     "metadata": {},
     "output_type": "execute_result"
    }
   ],
   "source": [
    "clf = svm.SVC(kernel='linear', C=1).fit(X_train, y_train)\n",
    "clf.score(X_test, y_test)"
   ],
   "metadata": {
    "collapsed": false,
    "ExecuteTime": {
     "end_time": "2025-03-27T16:55:47.075997Z",
     "start_time": "2025-03-27T16:55:47.057212Z"
    }
   },
   "id": "e17a057012cb5881",
   "execution_count": 10
  },
  {
   "cell_type": "markdown",
   "source": [
    "## Linear\n",
    "## Computing cross-validated metrics"
   ],
   "metadata": {
    "collapsed": false
   },
   "id": "25e72e1e079d3a8f"
  },
  {
   "cell_type": "code",
   "outputs": [
    {
     "data": {
      "text/plain": "array([0.83333333, 0.91666667, 0.91666667, 1.        , 0.95833333])"
     },
     "execution_count": 12,
     "metadata": {},
     "output_type": "execute_result"
    }
   ],
   "source": [
    "clf = svm.SVC(kernel='linear', C=1, random_state=42)\n",
    "scores = cross_val_score(clf, X, y, cv=5)\n",
    "scores"
   ],
   "metadata": {
    "collapsed": false,
    "ExecuteTime": {
     "end_time": "2025-03-27T16:57:45.856185Z",
     "start_time": "2025-03-27T16:57:45.797369Z"
    }
   },
   "id": "3a0af962e6d8856",
   "execution_count": 12
  },
  {
   "cell_type": "code",
   "outputs": [
    {
     "name": "stdout",
     "output_type": "stream",
     "text": [
      "0.9250 accuracy with a standard deviation of 0.0553\n"
     ]
    }
   ],
   "source": [
    "print(\"%0.4f accuracy with a standard deviation of %0.4f\" % (scores.mean(), scores.std()))"
   ],
   "metadata": {
    "collapsed": false,
    "ExecuteTime": {
     "end_time": "2025-03-27T16:58:58.758949Z",
     "start_time": "2025-03-27T16:58:58.751725Z"
    }
   },
   "id": "69f707babbaf0f17",
   "execution_count": 13
  },
  {
   "cell_type": "markdown",
   "source": [
    "## Scoring = f1"
   ],
   "metadata": {
    "collapsed": false
   },
   "id": "c52eb83e68a91cf4"
  },
  {
   "cell_type": "code",
   "outputs": [
    {
     "data": {
      "text/plain": "array([0.83216783, 0.91608392, 0.91666667, 1.        , 0.95826087])"
     },
     "execution_count": 15,
     "metadata": {},
     "output_type": "execute_result"
    }
   ],
   "source": [
    "scores = cross_val_score(clf, X, y, cv=5, scoring='f1_macro')\n",
    "scores"
   ],
   "metadata": {
    "collapsed": false,
    "ExecuteTime": {
     "end_time": "2025-03-27T17:00:21.627758Z",
     "start_time": "2025-03-27T17:00:21.549140Z"
    }
   },
   "id": "eab4cf1e0567db57",
   "execution_count": 15
  },
  {
   "cell_type": "code",
   "outputs": [
    {
     "name": "stdout",
     "output_type": "stream",
     "text": [
      "0.9246 accuracy with a standard deviation of 0.0557\n"
     ]
    }
   ],
   "source": [
    "print(\"%0.4f accuracy with a standard deviation of %0.4f\" % (scores.mean(), scores.std()))"
   ],
   "metadata": {
    "collapsed": false,
    "ExecuteTime": {
     "end_time": "2025-03-27T17:00:37.345355Z",
     "start_time": "2025-03-27T17:00:37.337936Z"
    }
   },
   "id": "36e808492fada354",
   "execution_count": 16
  },
  {
   "cell_type": "markdown",
   "source": [
    "## Shuffle"
   ],
   "metadata": {
    "collapsed": false
   },
   "id": "c61bf74f557f2719"
  },
  {
   "cell_type": "code",
   "outputs": [],
   "source": [
    "n_samples = X.shape[0]"
   ],
   "metadata": {
    "collapsed": false,
    "ExecuteTime": {
     "end_time": "2025-03-27T17:02:57.486053Z",
     "start_time": "2025-03-27T17:02:57.479154Z"
    }
   },
   "id": "cc87486a72eeb392",
   "execution_count": 17
  },
  {
   "cell_type": "code",
   "outputs": [
    {
     "data": {
      "text/plain": "array([0.94444444, 0.94444444, 0.91666667, 0.97222222, 0.97222222])"
     },
     "execution_count": 18,
     "metadata": {},
     "output_type": "execute_result"
    }
   ],
   "source": [
    "cv = ShuffleSplit(n_splits=5, test_size=0.3, random_state=0)\n",
    "scores = cross_val_score(clf, X, y, cv=cv)\n",
    "scores"
   ],
   "metadata": {
    "collapsed": false,
    "ExecuteTime": {
     "end_time": "2025-03-27T17:03:32.516872Z",
     "start_time": "2025-03-27T17:03:32.471540Z"
    }
   },
   "id": "c32978971c59ce84",
   "execution_count": 18
  },
  {
   "cell_type": "code",
   "outputs": [
    {
     "name": "stdout",
     "output_type": "stream",
     "text": [
      "0.9500 accuracy with a standard deviation of 0.0208\n"
     ]
    }
   ],
   "source": [
    "print(\"%0.4f accuracy with a standard deviation of %0.4f\" % (scores.mean(), scores.std()))"
   ],
   "metadata": {
    "collapsed": false,
    "ExecuteTime": {
     "end_time": "2025-03-27T17:03:37.370383Z",
     "start_time": "2025-03-27T17:03:37.363634Z"
    }
   },
   "id": "e776eb403726f065",
   "execution_count": 19
  },
  {
   "cell_type": "markdown",
   "source": [
    "## Stratified"
   ],
   "metadata": {
    "collapsed": false
   },
   "id": "3e7d7a14ead67588"
  },
  {
   "cell_type": "code",
   "outputs": [
    {
     "data": {
      "text/plain": "array([0.91666667, 0.91666667, 0.95833333, 0.91666667, 0.95833333])"
     },
     "execution_count": 21,
     "metadata": {},
     "output_type": "execute_result"
    }
   ],
   "source": [
    "cv = StratifiedKFold(n_splits=5, shuffle=True, random_state=0)\n",
    "scores = cross_val_score(clf, X, y, cv=cv)\n",
    "scores"
   ],
   "metadata": {
    "collapsed": false,
    "ExecuteTime": {
     "end_time": "2025-03-27T17:04:27.339072Z",
     "start_time": "2025-03-27T17:04:27.293013Z"
    }
   },
   "id": "fbb6596b0ed8ef54",
   "execution_count": 21
  },
  {
   "cell_type": "code",
   "outputs": [
    {
     "name": "stdout",
     "output_type": "stream",
     "text": [
      "0.9333 accuracy with a standard deviation of 0.0204\n"
     ]
    }
   ],
   "source": [
    "print(\"%0.4f accuracy with a standard deviation of %0.4f\" % (scores.mean(), scores.std()))"
   ],
   "metadata": {
    "collapsed": false,
    "ExecuteTime": {
     "end_time": "2025-03-27T17:04:38.672397Z",
     "start_time": "2025-03-27T17:04:38.663254Z"
    }
   },
   "id": "71a191177b514522",
   "execution_count": 22
  },
  {
   "cell_type": "markdown",
   "source": [
    "## Polynomial\n",
    "## Computing cross-validated metrics"
   ],
   "metadata": {
    "collapsed": false
   },
   "id": "b50e3a664d375229"
  },
  {
   "cell_type": "code",
   "outputs": [
    {
     "data": {
      "text/plain": "array([1.        , 0.79166667, 0.79166667, 0.66666667, 0.625     ])"
     },
     "execution_count": 23,
     "metadata": {},
     "output_type": "execute_result"
    }
   ],
   "source": [
    "clf = svm.SVC(kernel='poly', C=1, random_state=42)\n",
    "scores = cross_val_score(clf, X, y, cv=5)\n",
    "scores"
   ],
   "metadata": {
    "collapsed": false,
    "ExecuteTime": {
     "end_time": "2025-03-27T17:08:16.351230Z",
     "start_time": "2025-03-27T17:08:16.300552Z"
    }
   },
   "id": "755521e8f89cfaa9",
   "execution_count": 23
  },
  {
   "cell_type": "code",
   "outputs": [
    {
     "name": "stdout",
     "output_type": "stream",
     "text": [
      "0.7750 accuracy with a standard deviation of 0.1307\n"
     ]
    }
   ],
   "source": [
    "print(\"%0.4f accuracy with a standard deviation of %0.4f\" % (scores.mean(), scores.std()))"
   ],
   "metadata": {
    "collapsed": false,
    "ExecuteTime": {
     "end_time": "2025-03-27T17:08:20.703443Z",
     "start_time": "2025-03-27T17:08:20.697070Z"
    }
   },
   "id": "8448db7bcb26e0c0",
   "execution_count": 24
  },
  {
   "cell_type": "markdown",
   "source": [
    "## Scoring = f1"
   ],
   "metadata": {
    "collapsed": false
   },
   "id": "763be3c8149dfc14"
  },
  {
   "cell_type": "code",
   "outputs": [
    {
     "data": {
      "text/plain": "array([1.        , 0.77229602, 0.78221416, 0.59663866, 0.56363636])"
     },
     "execution_count": 25,
     "metadata": {},
     "output_type": "execute_result"
    }
   ],
   "source": [
    "scores = cross_val_score(clf, X, y, cv=5, scoring='f1_macro')\n",
    "scores"
   ],
   "metadata": {
    "collapsed": false,
    "ExecuteTime": {
     "end_time": "2025-03-27T17:09:14.793249Z",
     "start_time": "2025-03-27T17:09:14.738484Z"
    }
   },
   "id": "b1a1dd7f9e3e2242",
   "execution_count": 25
  },
  {
   "cell_type": "code",
   "outputs": [
    {
     "name": "stdout",
     "output_type": "stream",
     "text": [
      "0.7430 accuracy with a standard deviation of 0.1562\n"
     ]
    }
   ],
   "source": [
    "print(\"%0.4f accuracy with a standard deviation of %0.4f\" % (scores.mean(), scores.std()))"
   ],
   "metadata": {
    "collapsed": false,
    "ExecuteTime": {
     "end_time": "2025-03-27T17:09:21.042549Z",
     "start_time": "2025-03-27T17:09:21.034441Z"
    }
   },
   "id": "c9eaf853592b2fa0",
   "execution_count": 26
  },
  {
   "cell_type": "markdown",
   "source": [
    "## Shuffle"
   ],
   "metadata": {
    "collapsed": false
   },
   "id": "c4a37aa9aa63310c"
  },
  {
   "cell_type": "code",
   "outputs": [
    {
     "data": {
      "text/plain": "array([0.75      , 0.75      , 0.63888889, 0.77777778, 0.83333333])"
     },
     "execution_count": 27,
     "metadata": {},
     "output_type": "execute_result"
    }
   ],
   "source": [
    "n_samples = X.shape[0]\n",
    "cv = ShuffleSplit(n_splits=5, test_size=0.3, random_state=0)\n",
    "scores = cross_val_score(clf, X, y, cv=cv)\n",
    "scores"
   ],
   "metadata": {
    "collapsed": false,
    "ExecuteTime": {
     "end_time": "2025-03-27T17:09:29.277599Z",
     "start_time": "2025-03-27T17:09:29.232285Z"
    }
   },
   "id": "9022b980d711879f",
   "execution_count": 27
  },
  {
   "cell_type": "code",
   "outputs": [
    {
     "name": "stdout",
     "output_type": "stream",
     "text": [
      "0.7500 accuracy with a standard deviation of 0.0633\n"
     ]
    }
   ],
   "source": [
    "print(\"%0.4f accuracy with a standard deviation of %0.4f\" % (scores.mean(), scores.std()))"
   ],
   "metadata": {
    "collapsed": false,
    "ExecuteTime": {
     "end_time": "2025-03-27T17:09:34.190165Z",
     "start_time": "2025-03-27T17:09:34.183301Z"
    }
   },
   "id": "47cc12c82adde089",
   "execution_count": 28
  },
  {
   "cell_type": "markdown",
   "source": [
    "## Stratified"
   ],
   "metadata": {
    "collapsed": false
   },
   "id": "4fc73a3cfe00e6a4"
  },
  {
   "cell_type": "code",
   "outputs": [
    {
     "data": {
      "text/plain": "array([0.79166667, 0.70833333, 0.91666667, 0.79166667, 0.83333333])"
     },
     "execution_count": 29,
     "metadata": {},
     "output_type": "execute_result"
    }
   ],
   "source": [
    "cv = StratifiedKFold(n_splits=5, shuffle=True, random_state=0)\n",
    "scores = cross_val_score(clf, X, y, cv=cv)\n",
    "scores"
   ],
   "metadata": {
    "collapsed": false,
    "ExecuteTime": {
     "end_time": "2025-03-27T17:09:42.430987Z",
     "start_time": "2025-03-27T17:09:42.390675Z"
    }
   },
   "id": "e24491e9f92d6ddc",
   "execution_count": 29
  },
  {
   "cell_type": "code",
   "outputs": [
    {
     "name": "stdout",
     "output_type": "stream",
     "text": [
      "0.8083 accuracy with a standard deviation of 0.0677\n"
     ]
    }
   ],
   "source": [
    "print(\"%0.4f accuracy with a standard deviation of %0.4f\" % (scores.mean(), scores.std()))"
   ],
   "metadata": {
    "collapsed": false,
    "ExecuteTime": {
     "end_time": "2025-03-27T17:09:47.487926Z",
     "start_time": "2025-03-27T17:09:47.480952Z"
    }
   },
   "id": "abffe3f177c693d7",
   "execution_count": 30
  },
  {
   "cell_type": "markdown",
   "source": [
    "## Radial\n",
    "## Computing cross-validated metrics"
   ],
   "metadata": {
    "collapsed": false
   },
   "id": "f255c48b9d340eec"
  },
  {
   "cell_type": "code",
   "outputs": [
    {
     "data": {
      "text/plain": "array([1.        , 0.79166667, 0.75      , 0.625     , 0.625     ])"
     },
     "execution_count": 32,
     "metadata": {},
     "output_type": "execute_result"
    }
   ],
   "source": [
    "clf = svm.SVC(kernel='rbf', C=1, random_state=42)\n",
    "scores = cross_val_score(clf, X, y, cv=5)\n",
    "scores"
   ],
   "metadata": {
    "collapsed": false,
    "ExecuteTime": {
     "end_time": "2025-03-27T17:10:47.257448Z",
     "start_time": "2025-03-27T17:10:47.210202Z"
    }
   },
   "id": "aa6045d3391ee1d5",
   "execution_count": 32
  },
  {
   "cell_type": "code",
   "outputs": [
    {
     "name": "stdout",
     "output_type": "stream",
     "text": [
      "0.7583 accuracy with a standard deviation of 0.1379\n"
     ]
    }
   ],
   "source": [
    "print(\"%0.4f accuracy with a standard deviation of %0.4f\" % (scores.mean(), scores.std()))"
   ],
   "metadata": {
    "collapsed": false,
    "ExecuteTime": {
     "end_time": "2025-03-27T17:10:52.622508Z",
     "start_time": "2025-03-27T17:10:52.616116Z"
    }
   },
   "id": "cd7ed664d6407045",
   "execution_count": 33
  },
  {
   "cell_type": "markdown",
   "source": [
    "## Scoring = f1"
   ],
   "metadata": {
    "collapsed": false
   },
   "id": "45fba16bc7204725"
  },
  {
   "cell_type": "code",
   "outputs": [
    {
     "data": {
      "text/plain": "array([1.        , 0.77229602, 0.74285714, 0.60798548, 0.56363636])"
     },
     "execution_count": 34,
     "metadata": {},
     "output_type": "execute_result"
    }
   ],
   "source": [
    "scores = cross_val_score(clf, X, y, cv=5, scoring='f1_macro')\n",
    "scores"
   ],
   "metadata": {
    "collapsed": false,
    "ExecuteTime": {
     "end_time": "2025-03-27T17:11:03.264244Z",
     "start_time": "2025-03-27T17:11:03.210317Z"
    }
   },
   "id": "1d07a59fd09e5e55",
   "execution_count": 34
  },
  {
   "cell_type": "code",
   "outputs": [
    {
     "name": "stdout",
     "output_type": "stream",
     "text": [
      "0.7374 accuracy with a standard deviation of 0.1531\n"
     ]
    }
   ],
   "source": [
    "print(\"%0.4f accuracy with a standard deviation of %0.4f\" % (scores.mean(), scores.std()))"
   ],
   "metadata": {
    "collapsed": false,
    "ExecuteTime": {
     "end_time": "2025-03-27T17:11:06.836865Z",
     "start_time": "2025-03-27T17:11:06.830404Z"
    }
   },
   "id": "479e27dce065a5df",
   "execution_count": 35
  },
  {
   "cell_type": "markdown",
   "source": [
    "## Shuffle"
   ],
   "metadata": {
    "collapsed": false
   },
   "id": "10ad2a7b3f929d42"
  },
  {
   "cell_type": "code",
   "outputs": [
    {
     "data": {
      "text/plain": "array([0.69444444, 0.77777778, 0.58333333, 0.77777778, 0.77777778])"
     },
     "execution_count": 36,
     "metadata": {},
     "output_type": "execute_result"
    }
   ],
   "source": [
    "n_samples = X.shape[0]\n",
    "cv = ShuffleSplit(n_splits=5, test_size=0.3, random_state=0)\n",
    "scores = cross_val_score(clf, X, y, cv=cv)\n",
    "scores"
   ],
   "metadata": {
    "collapsed": false,
    "ExecuteTime": {
     "end_time": "2025-03-27T17:11:14.943017Z",
     "start_time": "2025-03-27T17:11:14.898270Z"
    }
   },
   "id": "1c8388b05eae1b9b",
   "execution_count": 36
  },
  {
   "cell_type": "code",
   "outputs": [
    {
     "name": "stdout",
     "output_type": "stream",
     "text": [
      "0.7222 accuracy with a standard deviation of 0.0766\n"
     ]
    }
   ],
   "source": [
    "print(\"%0.4f accuracy with a standard deviation of %0.4f\" % (scores.mean(), scores.std()))"
   ],
   "metadata": {
    "collapsed": false,
    "ExecuteTime": {
     "end_time": "2025-03-27T17:11:19.817106Z",
     "start_time": "2025-03-27T17:11:19.809493Z"
    }
   },
   "id": "ad2f87af214c2ec4",
   "execution_count": 37
  },
  {
   "cell_type": "markdown",
   "source": [
    "## Stratified"
   ],
   "metadata": {
    "collapsed": false
   },
   "id": "5366f8f1ccb371ff"
  },
  {
   "cell_type": "code",
   "outputs": [
    {
     "data": {
      "text/plain": "array([0.75      , 0.625     , 0.875     , 0.79166667, 0.79166667])"
     },
     "execution_count": 38,
     "metadata": {},
     "output_type": "execute_result"
    }
   ],
   "source": [
    "cv = StratifiedKFold(n_splits=5, shuffle=True, random_state=0)\n",
    "scores = cross_val_score(clf, X, y, cv=cv)\n",
    "scores"
   ],
   "metadata": {
    "collapsed": false,
    "ExecuteTime": {
     "end_time": "2025-03-27T17:11:29.820620Z",
     "start_time": "2025-03-27T17:11:29.768118Z"
    }
   },
   "id": "728442fba86d9f48",
   "execution_count": 38
  },
  {
   "cell_type": "code",
   "outputs": [
    {
     "name": "stdout",
     "output_type": "stream",
     "text": [
      "0.7667 accuracy with a standard deviation of 0.0816\n"
     ]
    }
   ],
   "source": [
    "print(\"%0.4f accuracy with a standard deviation of %0.4f\" % (scores.mean(), scores.std()))"
   ],
   "metadata": {
    "collapsed": false,
    "ExecuteTime": {
     "end_time": "2025-03-27T17:11:33.743628Z",
     "start_time": "2025-03-27T17:11:33.735713Z"
    }
   },
   "id": "2ff8650ff9ec736d",
   "execution_count": 39
  },
  {
   "cell_type": "markdown",
   "source": [
    "## Sigmoid\n",
    "## Computing cross-validated metrics"
   ],
   "metadata": {
    "collapsed": false
   },
   "id": "e1790e41af10caa0"
  },
  {
   "cell_type": "code",
   "outputs": [
    {
     "data": {
      "text/plain": "array([0.        , 0.20833333, 0.29166667, 0.375     , 0.5       ])"
     },
     "execution_count": 40,
     "metadata": {},
     "output_type": "execute_result"
    }
   ],
   "source": [
    "clf = svm.SVC(kernel='sigmoid', C=1, random_state=42)\n",
    "scores = cross_val_score(clf, X, y, cv=5)\n",
    "scores"
   ],
   "metadata": {
    "collapsed": false,
    "ExecuteTime": {
     "end_time": "2025-03-27T17:11:48.764227Z",
     "start_time": "2025-03-27T17:11:48.722682Z"
    }
   },
   "id": "71270382aea180a6",
   "execution_count": 40
  },
  {
   "cell_type": "code",
   "outputs": [
    {
     "name": "stdout",
     "output_type": "stream",
     "text": [
      "0.2750 accuracy with a standard deviation of 0.1679\n"
     ]
    }
   ],
   "source": [
    "print(\"%0.4f accuracy with a standard deviation of %0.4f\" % (scores.mean(), scores.std()))"
   ],
   "metadata": {
    "collapsed": false,
    "ExecuteTime": {
     "end_time": "2025-03-27T17:11:52.525761Z",
     "start_time": "2025-03-27T17:11:52.519151Z"
    }
   },
   "id": "f1135086d5c1c6b6",
   "execution_count": 41
  },
  {
   "cell_type": "markdown",
   "source": [
    "## Scoring = f1"
   ],
   "metadata": {
    "collapsed": false
   },
   "id": "4c2751ba173992b3"
  },
  {
   "cell_type": "code",
   "outputs": [
    {
     "data": {
      "text/plain": "array([0.        , 0.17241379, 0.29043478, 0.36507937, 0.33333333])"
     },
     "execution_count": 42,
     "metadata": {},
     "output_type": "execute_result"
    }
   ],
   "source": [
    "scores = cross_val_score(clf, X, y, cv=5, scoring='f1_macro')\n",
    "scores"
   ],
   "metadata": {
    "collapsed": false,
    "ExecuteTime": {
     "end_time": "2025-03-27T17:12:00.864114Z",
     "start_time": "2025-03-27T17:12:00.812828Z"
    }
   },
   "id": "21e3bbb58dffaa60",
   "execution_count": 42
  },
  {
   "cell_type": "code",
   "outputs": [
    {
     "name": "stdout",
     "output_type": "stream",
     "text": [
      "0.2323 accuracy with a standard deviation of 0.1332\n"
     ]
    }
   ],
   "source": [
    "print(\"%0.4f accuracy with a standard deviation of %0.4f\" % (scores.mean(), scores.std()))"
   ],
   "metadata": {
    "collapsed": false,
    "ExecuteTime": {
     "end_time": "2025-03-27T17:12:06.278262Z",
     "start_time": "2025-03-27T17:12:06.271366Z"
    }
   },
   "id": "a7b0eb5fc3024059",
   "execution_count": 43
  },
  {
   "cell_type": "markdown",
   "source": [
    "## Shuffle"
   ],
   "metadata": {
    "collapsed": false
   },
   "id": "34ebc899a8d75d40"
  },
  {
   "cell_type": "code",
   "outputs": [
    {
     "data": {
      "text/plain": "array([0.30555556, 0.33333333, 0.44444444, 0.30555556, 0.36111111])"
     },
     "execution_count": 44,
     "metadata": {},
     "output_type": "execute_result"
    }
   ],
   "source": [
    "n_samples = X.shape[0]\n",
    "cv = ShuffleSplit(n_splits=5, test_size=0.3, random_state=0)\n",
    "scores = cross_val_score(clf, X, y, cv=cv)\n",
    "scores"
   ],
   "metadata": {
    "collapsed": false,
    "ExecuteTime": {
     "end_time": "2025-03-27T17:12:14.197253Z",
     "start_time": "2025-03-27T17:12:14.150812Z"
    }
   },
   "id": "f8fdd346478bae62",
   "execution_count": 44
  },
  {
   "cell_type": "code",
   "outputs": [
    {
     "name": "stdout",
     "output_type": "stream",
     "text": [
      "0.3500 accuracy with a standard deviation of 0.0515\n"
     ]
    }
   ],
   "source": [
    "print(\"%0.4f accuracy with a standard deviation of %0.4f\" % (scores.mean(), scores.std()))"
   ],
   "metadata": {
    "collapsed": false,
    "ExecuteTime": {
     "end_time": "2025-03-27T17:12:18.298693Z",
     "start_time": "2025-03-27T17:12:18.290809Z"
    }
   },
   "id": "7a931e6649365a2b",
   "execution_count": 45
  },
  {
   "cell_type": "markdown",
   "source": [
    "## Stratified"
   ],
   "metadata": {
    "collapsed": false
   },
   "id": "5a08a50a3d9d0118"
  },
  {
   "cell_type": "code",
   "outputs": [
    {
     "data": {
      "text/plain": "array([0.25      , 0.375     , 0.125     , 0.33333333, 0.33333333])"
     },
     "execution_count": 46,
     "metadata": {},
     "output_type": "execute_result"
    }
   ],
   "source": [
    "cv = StratifiedKFold(n_splits=5, shuffle=True, random_state=0)\n",
    "scores = cross_val_score(clf, X, y, cv=cv)\n",
    "scores"
   ],
   "metadata": {
    "collapsed": false,
    "ExecuteTime": {
     "end_time": "2025-03-27T17:12:25.648364Z",
     "start_time": "2025-03-27T17:12:25.603341Z"
    }
   },
   "id": "a73046da29d15447",
   "execution_count": 46
  },
  {
   "cell_type": "code",
   "outputs": [
    {
     "name": "stdout",
     "output_type": "stream",
     "text": [
      "0.2833 accuracy with a standard deviation of 0.0890\n"
     ]
    }
   ],
   "source": [
    "print(\"%0.4f accuracy with a standard deviation of %0.4f\" % (scores.mean(), scores.std()))"
   ],
   "metadata": {
    "collapsed": false,
    "ExecuteTime": {
     "end_time": "2025-03-27T17:12:29.803673Z",
     "start_time": "2025-03-27T17:12:29.797242Z"
    }
   },
   "id": "ed0de8428cdd453a",
   "execution_count": 47
  },
  {
   "cell_type": "markdown",
   "source": [
    "### Results:\n",
    "Linear:\n",
    "cv5 - average acc = 0.925\n",
    "scoring=f1 - average acc = 0.9246\n",
    "shuffle - average acc = 0.9500\n",
    "stratified - average acc = 0.9333\n",
    "\n",
    "Highest = shuffle\n",
    "\n",
    "\n",
    "\n",
    "Polynomial:\n",
    "cv5 - average acc = 0.7750\n",
    "scoring=f1 - average acc = 0.7430\n",
    "shuffle - average acc = 0.7500\n",
    "stratified - average acc = 0.8083\n",
    "\n",
    "Highest = stratified\n",
    "\n",
    "\n",
    "\n",
    "Radial:\n",
    "cv5 - average acc = 0.7583\n",
    "scoring=f1 - average acc = 0.7374\n",
    "shuffle - average acc = 0.7222\n",
    "stratified - average acc = 0.7667\n",
    "\n",
    "Highest = stratified\n",
    "\n",
    "\n",
    "\n",
    "Sigmoid:\n",
    "cv5 - average acc = 0.2750\n",
    "scoring=f1 - average acc = 0.2323\n",
    "shuffle - average acc = 0.3500\n",
    "stratified - average acc = 0.2833\n",
    "\n",
    "Highest = shuffle"
   ],
   "metadata": {
    "collapsed": false
   },
   "id": "2544539723defc1c"
  }
 ],
 "metadata": {
  "kernelspec": {
   "display_name": "Python 3",
   "language": "python",
   "name": "python3"
  },
  "language_info": {
   "codemirror_mode": {
    "name": "ipython",
    "version": 2
   },
   "file_extension": ".py",
   "mimetype": "text/x-python",
   "name": "python",
   "nbconvert_exporter": "python",
   "pygments_lexer": "ipython2",
   "version": "2.7.6"
  }
 },
 "nbformat": 4,
 "nbformat_minor": 5
}

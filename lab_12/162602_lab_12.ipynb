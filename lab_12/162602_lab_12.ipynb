{
 "cells": [
  {
   "metadata": {},
   "cell_type": "markdown",
   "source": [
    "# Adam Trentowski - 162602 - Machine Learning\n",
    "## lab_12\n",
    "## Library Imports"
   ],
   "id": "624e09bab71d6b97"
  },
  {
   "cell_type": "code",
   "id": "initial_id",
   "metadata": {
    "collapsed": true,
    "ExecuteTime": {
     "end_time": "2025-06-05T15:12:06.326476Z",
     "start_time": "2025-06-05T15:12:05.026947Z"
    }
   },
   "source": [
    "import numpy as np\n",
    "import pandas as pd\n",
    "import matplotlib.pyplot as plt\n",
    "\n",
    "# Import warnings\n",
    "import warnings\n",
    "warnings.filterwarnings('ignore')\n",
    "\n",
    "from subprocess import check_output\n",
    "\n",
    "from sklearn.model_selection import train_test_split"
   ],
   "outputs": [],
   "execution_count": 1
  },
  {
   "metadata": {},
   "cell_type": "markdown",
   "source": "## Data loading",
   "id": "a377acf70bbcab83"
  },
  {
   "metadata": {
    "ExecuteTime": {
     "end_time": "2025-06-05T15:12:06.544873Z",
     "start_time": "2025-06-05T15:12:06.350773Z"
    }
   },
   "cell_type": "code",
   "source": [
    "x_l = np.load('X.npy')\n",
    "Y_l = np.load('Y.npy')\n",
    "\n",
    "img_size = 64\n",
    "\n",
    "plt.subplot(1, 2, 1)\n",
    "plt.imshow(x_l[260].reshape(img_size, img_size))\n",
    "plt.axis('off')\n",
    "\n",
    "plt.subplot(1, 2, 2)\n",
    "plt.imshow(x_l[900].reshape(img_size, img_size))\n",
    "plt.axis('off')\n",
    "\n",
    "plt.show()"
   ],
   "id": "6cba9decab821535",
   "outputs": [
    {
     "data": {
      "text/plain": [
       "<Figure size 640x480 with 2 Axes>"
      ],
      "image/png": "[encoded data removed]"
     },
     "metadata": {},
     "output_type": "display_data"
    }
   ],
   "execution_count": 2
  },
  {
   "metadata": {},
   "cell_type": "markdown",
   "source": "## Join arrays row-wise; 0–204: zero, 205–410: one.",
   "id": "84d522713af295ac"
  },
  {
   "metadata": {
    "ExecuteTime": {
     "end_time": "2025-06-05T15:12:39.665470Z",
     "start_time": "2025-06-05T15:12:39.654371Z"
    }
   },
   "cell_type": "code",
   "source": [
    "X = np.concatenate((x_l[204:409], x_l[822:1027]), axis=0)\n",
    "\n",
    "z = np.zeros(205)\n",
    "o = np.ones(205)\n",
    "\n",
    "Y = np.concatenate((z, o), axis=0).reshape(X.shape[0], 1)\n",
    "\n",
    "print(\"X shape: \", X.shape)\n",
    "print(\"Y shape: \", Y.shape)"
   ],
   "id": "8e0944d86c2fe26d",
   "outputs": [
    {
     "name": "stdout",
     "output_type": "stream",
     "text": [
      "X shape:  (410, 64, 64)\n",
      "Y shape:  (410, 1)\n"
     ]
    }
   ],
   "execution_count": 3
  },
  {
   "metadata": {},
   "cell_type": "markdown",
   "source": "## Splitting dataset to train and test sets",
   "id": "17bc234fa52023f5"
  },
  {
   "metadata": {
    "ExecuteTime": {
     "end_time": "2025-06-05T15:13:09.454430Z",
     "start_time": "2025-06-05T15:13:09.435919Z"
    }
   },
   "cell_type": "code",
   "source": [
    "X_train, X_test, Y_train, Y_test = train_test_split(X, Y, test_size=0.15, random_state=42)\n",
    "\n",
    "number_of_train = X_train.shape[0]\n",
    "number_of_test = X_test.shape[0]\n",
    "\n",
    "X_train_flatten = X_train.reshape(number_of_train, X_train.shape[1] * X_train.shape[2])\n",
    "X_test_flatten = X_test.reshape(number_of_test, X_test.shape[1] * X_test.shape[2])\n",
    "\n",
    "print(\"X train flatten\", X_train_flatten.shape)\n",
    "print(\"X test flatten\", X_test_flatten.shape)\n",
    "\n",
    "x_train = X_train_flatten.T\n",
    "x_test = X_test_flatten.T\n",
    "y_train = Y_train.T\n",
    "y_test = Y_test.T\n",
    "\n",
    "print(\"x train: \", x_train.shape)\n",
    "print(\"x test: \", x_test.shape)\n",
    "print(\"y train: \", y_train.shape)\n",
    "print(\"y test: \", y_test.shape)"
   ],
   "id": "cbc2635896d2c3f8",
   "outputs": [
    {
     "name": "stdout",
     "output_type": "stream",
     "text": [
      "X train flatten (348, 4096)\n",
      "X test flatten (62, 4096)\n",
      "x train:  (4096, 348)\n",
      "x test:  (4096, 62)\n",
      "y train:  (1, 348)\n",
      "y test:  (1, 62)\n"
     ]
    }
   ],
   "execution_count": 4
  },
  {
   "metadata": {},
   "cell_type": "markdown",
   "source": "## Initializing parameters and layer sizes",
   "id": "158ea1b836d3685"
  },
  {
   "metadata": {
    "ExecuteTime": {
     "end_time": "2025-06-05T15:17:01.392486Z",
     "start_time": "2025-06-05T15:17:01.386752Z"
    }
   },
   "cell_type": "code",
   "source": [
    "def initialize_parameters_and_layer_sizes_NN(x_train, y_train):\n",
    "    parameters = {\n",
    "        \"weight1\": np.random.randn(3, x_train.shape[0]) * 0.1,\n",
    "        \"bias1\": np.zeros((3, 1)),\n",
    "        \"weight2\": np.random.randn(y_train.shape[0], 3) * 0.1,\n",
    "        \"bias2\": np.zeros((y_train.shape[0], 1))\n",
    "    }\n",
    "    return parameters"
   ],
   "id": "8932b38f170d0549",
   "outputs": [],
   "execution_count": 6
  },
  {
   "metadata": {},
   "cell_type": "markdown",
   "source": "## Forward propagation steps",
   "id": "8213a234755e88ba"
  },
  {
   "metadata": {
    "ExecuteTime": {
     "end_time": "2025-06-05T15:19:08.859371Z",
     "start_time": "2025-06-05T15:19:08.853056Z"
    }
   },
   "cell_type": "code",
   "source": [
    "def forward_propagation_NN(x_train, parameters):\n",
    "    Z1 = np.dot(parameters[\"weight1\"], x_train) + parameters[\"bias1\"]\n",
    "    A1 = np.tanh(Z1)\n",
    "    Z2 = np.dot(parameters[\"weight2\"], A1) + parameters[\"bias2\"]\n",
    "    A2 = sigmoid(Z2)\n",
    "\n",
    "    cache = {\n",
    "        \"Z1\": Z1,\n",
    "        \"A1\": A1,\n",
    "        \"Z2\": Z2,\n",
    "        \"A2\": A2\n",
    "    }\n",
    "\n",
    "    return A2, cache"
   ],
   "id": "716e2de2c76dea76",
   "outputs": [],
   "execution_count": 7
  },
  {
   "metadata": {},
   "cell_type": "markdown",
   "source": "## Sigmoid function",
   "id": "2066a820c0762cb4"
  },
  {
   "metadata": {
    "ExecuteTime": {
     "end_time": "2025-06-05T15:20:36.222674Z",
     "start_time": "2025-06-05T15:20:36.215005Z"
    }
   },
   "cell_type": "code",
   "source": [
    "def sigmoid(z):\n",
    "    y_head = 1 / (1 + np.exp(-z))\n",
    "    return y_head"
   ],
   "id": "7d6c6d932731093f",
   "outputs": [],
   "execution_count": 8
  },
  {
   "metadata": {},
   "cell_type": "markdown",
   "source": "## Cost function",
   "id": "3cb7edcffdd0a292"
  },
  {
   "metadata": {
    "ExecuteTime": {
     "end_time": "2025-06-05T15:42:58.648316Z",
     "start_time": "2025-06-05T15:42:58.639713Z"
    }
   },
   "cell_type": "code",
   "source": [
    "def compute_cost_NN(A2, Y, parameters):\n",
    "    logprobs = np.multiply(np.log(A2), Y)\n",
    "    cost = -np.sum(logprobs) / Y.shape[1]\n",
    "    return cost"
   ],
   "id": "faf631029df7a135",
   "outputs": [],
   "execution_count": 15
  },
  {
   "metadata": {},
   "cell_type": "markdown",
   "source": "## Back propagation",
   "id": "1687e24b6b1bf187"
  },
  {
   "metadata": {
    "ExecuteTime": {
     "end_time": "2025-06-05T15:42:59.288196Z",
     "start_time": "2025-06-05T15:42:59.280517Z"
    }
   },
   "cell_type": "code",
   "source": [
    "def backward_propagation_NN(parameters, cache, X, Y):\n",
    "    dZ2 = cache[\"A2\"] - Y\n",
    "    dW2 = np.dot(dZ2, cache[\"A1\"].T) / X.shape[1]\n",
    "    db2 = np.sum(dZ2, axis=1, keepdims=True) / X.shape[1]\n",
    "\n",
    "    dZ1 = np.dot(parameters[\"weight2\"].T, dZ2) * (1 - np.power(cache[\"A1\"], 2))\n",
    "    dW1 = np.dot(dZ1, X.T) / X.shape[1]\n",
    "    db1 = np.sum(dZ1, axis=1, keepdims=True) / X.shape[1]\n",
    "\n",
    "    grads = {\n",
    "        \"dweight1\": dW1,\n",
    "        \"dbias1\": db1,\n",
    "        \"dweight2\": dW2,\n",
    "        \"dbias2\": db2\n",
    "    }\n",
    "\n",
    "    return grads"
   ],
   "id": "9a0c311538c1f075",
   "outputs": [],
   "execution_count": 16
  },
  {
   "metadata": {},
   "cell_type": "markdown",
   "source": "## Updating (learning) parameters",
   "id": "d669836b701b9e23"
  },
  {
   "metadata": {
    "ExecuteTime": {
     "end_time": "2025-06-05T15:42:59.978305Z",
     "start_time": "2025-06-05T15:42:59.970694Z"
    }
   },
   "cell_type": "code",
   "source": [
    "def update_parameters_NN(parameters, grads, learning_rate=0.01):\n",
    "    parameters = {\n",
    "        \"weight1\": parameters[\"weight1\"] - learning_rate * grads[\"dweight1\"],\n",
    "        \"bias1\": parameters[\"bias1\"] - learning_rate * grads[\"dbias1\"],\n",
    "        \"weight2\": parameters[\"weight2\"] - learning_rate * grads[\"dweight2\"],\n",
    "        \"bias2\": parameters[\"bias2\"] - learning_rate * grads[\"dbias2\"]\n",
    "    }\n",
    "    return parameters"
   ],
   "id": "7346f285bb1c1bb5",
   "outputs": [],
   "execution_count": 17
  },
  {
   "metadata": {},
   "cell_type": "markdown",
   "source": "## Prediction function",
   "id": "fa3cf43bda0153b8"
  },
  {
   "metadata": {
    "ExecuteTime": {
     "end_time": "2025-06-05T15:43:05.421169Z",
     "start_time": "2025-06-05T15:43:05.414739Z"
    }
   },
   "cell_type": "code",
   "source": [
    "def predict_NN(parameters, x_test):\n",
    "    # x_test is an input for forward propagation\n",
    "    A2, cache = forward_propagation_NN(x_test, parameters)\n",
    "    Y_prediction = np.zeros((1, x_test.shape[1]))\n",
    "\n",
    "    # if z is bigger than 0.5, our prediction is sign one (y_head = 1)\n",
    "    # if z is smaller than 0.5, our prediction is sign zero (y_head = 0)\n",
    "    for i in range(A2.shape[1]):\n",
    "        if A2[0, i] <= 0.5:\n",
    "            Y_prediction[0, i] = 0\n",
    "        else:\n",
    "            Y_prediction[0, i] = 1\n",
    "\n",
    "    return Y_prediction"
   ],
   "id": "9c507fee38611eb6",
   "outputs": [],
   "execution_count": 18
  },
  {
   "metadata": {},
   "cell_type": "markdown",
   "source": "## Creating model - 2 - layer neural network",
   "id": "b382352629abc300"
  },
  {
   "metadata": {
    "ExecuteTime": {
     "end_time": "2025-06-05T15:43:06.527046Z",
     "start_time": "2025-06-05T15:43:06.517647Z"
    }
   },
   "cell_type": "code",
   "source": [
    "def two_layer_neural_network(x_train, y_train, x_test, y_test, num_iterations):\n",
    "    cost_list = []\n",
    "    index_list = []\n",
    "\n",
    "    # initialize parameters and layer sizes\n",
    "    parameters = initialize_parameters_and_layer_sizes_NN(x_train, y_train)\n",
    "\n",
    "    for i in range(0, num_iterations):\n",
    "        # forward propagation\n",
    "        A2, cache = forward_propagation_NN(x_train, parameters)\n",
    "\n",
    "        # compute cost\n",
    "        cost = compute_cost_NN(A2, y_train, parameters)\n",
    "\n",
    "        # backward propagation\n",
    "        grads = backward_propagation_NN(parameters, cache, x_train, y_train)\n",
    "\n",
    "        # update parameters\n",
    "        parameters = update_parameters_NN(parameters, grads)\n",
    "\n",
    "        if i % 100 == 0:\n",
    "            cost_list.append(cost)\n",
    "            index_list.append(i)\n",
    "            print(\"Cost after iteration %i: %f\" % (i, cost))\n",
    "\n",
    "    plt.plot(index_list, cost_list)\n",
    "    plt.xticks(index_list, rotation='vertical')\n",
    "    plt.xlabel(\"Number of Iteration\")\n",
    "    plt.ylabel(\"Cost\")\n",
    "    plt.show()\n",
    "\n",
    "    # predict\n",
    "    y_prediction_test = predict_NN(parameters, x_test)\n",
    "    y_prediction_train = predict_NN(parameters, x_train)\n",
    "\n",
    "    # Print train/test Errors\n",
    "    print(\"train accuracy: {} %\".format(100 - np.mean(np.abs(y_prediction_train - y_train)) * 100))\n",
    "    print(\"test accuracy: {} %\".format(100 - np.mean(np.abs(y_prediction_test - y_test)) * 100))\n",
    "\n",
    "    return parameters"
   ],
   "id": "b20e93d5c7377870",
   "outputs": [],
   "execution_count": 19
  },
  {
   "metadata": {
    "ExecuteTime": {
     "end_time": "2025-06-05T15:43:38.737372Z",
     "start_time": "2025-06-05T15:43:07.790056Z"
    }
   },
   "cell_type": "code",
   "source": "parameters = two_layer_neural_network(x_train, y_train, x_test, y_test, num_iterations=2500)",
   "id": "1eb0e1ad95b60f5b",
   "outputs": [
    {
     "name": "stdout",
     "output_type": "stream",
     "text": [
      "Cost after iteration 0: 0.686181\n",
      "Cost after iteration 100: 0.653347\n",
      "Cost after iteration 200: 0.586836\n",
      "Cost after iteration 300: 0.501498\n",
      "Cost after iteration 400: 0.422180\n",
      "Cost after iteration 500: 0.356619\n",
      "Cost after iteration 600: 0.304536\n",
      "Cost after iteration 700: 0.267065\n",
      "Cost after iteration 800: 0.234341\n",
      "Cost after iteration 900: 0.208148\n",
      "Cost after iteration 1000: 0.186929\n",
      "Cost after iteration 1100: 0.169530\n",
      "Cost after iteration 1200: 0.155017\n",
      "Cost after iteration 1300: 0.142734\n",
      "Cost after iteration 1400: 0.132313\n",
      "Cost after iteration 1500: 0.123478\n",
      "Cost after iteration 1600: 0.115927\n",
      "Cost after iteration 1700: 0.109367\n",
      "Cost after iteration 1800: 0.103516\n",
      "Cost after iteration 1900: 0.098069\n",
      "Cost after iteration 2000: 0.092713\n",
      "Cost after iteration 2100: 0.087564\n",
      "Cost after iteration 2200: 0.083109\n",
      "Cost after iteration 2300: 0.079333\n",
      "Cost after iteration 2400: 0.076022\n"
     ]
    },
    {
     "data": {
      "text/plain": [
       "<Figure size 640x480 with 1 Axes>"
      ],
      "image/png": "[encoded data removed]"
     },
     "metadata": {},
     "output_type": "display_data"
    },
    {
     "name": "stdout",
     "output_type": "stream",
     "text": [
      "train accuracy: 99.42528735632185 %\n",
      "test accuracy: 96.7741935483871 %\n"
     ]
    }
   ],
   "execution_count": 20
  }
 ],
 "metadata": {
  "kernelspec": {
   "display_name": "Python 3",
   "language": "python",
   "name": "python3"
  },
  "language_info": {
   "codemirror_mode": {
    "name": "ipython",
    "version": 2
   },
   "file_extension": ".py",
   "mimetype": "text/x-python",
   "name": "python",
   "nbconvert_exporter": "python",
   "pygments_lexer": "ipython2",
   "version": "2.7.6"
  }
 },
 "nbformat": 4,
 "nbformat_minor": 5
}

{
  "nbformat": 4,
  "nbformat_minor": 0,
  "metadata": {
    "colab": {
      "provenance": []
    },
    "kernelspec": {
      "name": "python3",
      "display_name": "Python 3"
    },
    "language_info": {
      "name": "python"
    }
  },
  "cells": [
    {
      "cell_type": "markdown",
      "source": [
        "# Adam Trentowski - 162602 - Machine Learning\n",
        "## lab_13\n",
        "## Library Imports"
      ],
      "metadata": {
        "id": "Kk4lVEkxrOiQ"
      }
    },
    {
      "cell_type": "code",
      "execution_count": 1,
      "metadata": {
        "colab": {
          "base_uri": "https://localhost:8080/"
        },
        "id": "xxgs3Zl1rNL3",
        "outputId": "e02146fd-7d7b-488b-a7c6-1ea636b1e395"
      },
      "outputs": [
        {
          "output_type": "stream",
          "name": "stdout",
          "text": [
            "Requirement already satisfied: torch in /usr/local/lib/python3.11/dist-packages (2.6.0+cu124)\n",
            "Requirement already satisfied: torchvision in /usr/local/lib/python3.11/dist-packages (0.21.0+cu124)\n",
            "Requirement already satisfied: filelock in /usr/local/lib/python3.11/dist-packages (from torch) (3.18.0)\n",
            "Requirement already satisfied: typing-extensions>=4.10.0 in /usr/local/lib/python3.11/dist-packages (from torch) (4.14.0)\n",
            "Requirement already satisfied: networkx in /usr/local/lib/python3.11/dist-packages (from torch) (3.5)\n",
            "Requirement already satisfied: jinja2 in /usr/local/lib/python3.11/dist-packages (from torch) (3.1.6)\n",
            "Requirement already satisfied: fsspec in /usr/local/lib/python3.11/dist-packages (from torch) (2025.3.2)\n",
            "Collecting nvidia-cuda-nvrtc-cu12==12.4.127 (from torch)\n",
            "  Downloading nvidia_cuda_nvrtc_cu12-12.4.127-py3-none-manylinux2014_x86_64.whl.metadata (1.5 kB)\n",
            "Collecting nvidia-cuda-runtime-cu12==12.4.127 (from torch)\n",
            "  Downloading nvidia_cuda_runtime_cu12-12.4.127-py3-none-manylinux2014_x86_64.whl.metadata (1.5 kB)\n",
            "Collecting nvidia-cuda-cupti-cu12==12.4.127 (from torch)\n",
            "  Downloading nvidia_cuda_cupti_cu12-12.4.127-py3-none-manylinux2014_x86_64.whl.metadata (1.6 kB)\n",
            "Collecting nvidia-cudnn-cu12==9.1.0.70 (from torch)\n",
            "  Downloading nvidia_cudnn_cu12-9.1.0.70-py3-none-manylinux2014_x86_64.whl.metadata (1.6 kB)\n",
            "Collecting nvidia-cublas-cu12==12.4.5.8 (from torch)\n",
            "  Downloading nvidia_cublas_cu12-12.4.5.8-py3-none-manylinux2014_x86_64.whl.metadata (1.5 kB)\n",
            "Collecting nvidia-cufft-cu12==11.2.1.3 (from torch)\n",
            "  Downloading nvidia_cufft_cu12-11.2.1.3-py3-none-manylinux2014_x86_64.whl.metadata (1.5 kB)\n",
            "Collecting nvidia-curand-cu12==10.3.5.147 (from torch)\n",
            "  Downloading nvidia_curand_cu12-10.3.5.147-py3-none-manylinux2014_x86_64.whl.metadata (1.5 kB)\n",
            "Collecting nvidia-cusolver-cu12==11.6.1.9 (from torch)\n",
            "  Downloading nvidia_cusolver_cu12-11.6.1.9-py3-none-manylinux2014_x86_64.whl.metadata (1.6 kB)\n",
            "Collecting nvidia-cusparse-cu12==12.3.1.170 (from torch)\n",
            "  Downloading nvidia_cusparse_cu12-12.3.1.170-py3-none-manylinux2014_x86_64.whl.metadata (1.6 kB)\n",
            "Requirement already satisfied: nvidia-cusparselt-cu12==0.6.2 in /usr/local/lib/python3.11/dist-packages (from torch) (0.6.2)\n",
            "Requirement already satisfied: nvidia-nccl-cu12==2.21.5 in /usr/local/lib/python3.11/dist-packages (from torch) (2.21.5)\n",
            "Requirement already satisfied: nvidia-nvtx-cu12==12.4.127 in /usr/local/lib/python3.11/dist-packages (from torch) (12.4.127)\n",
            "Collecting nvidia-nvjitlink-cu12==12.4.127 (from torch)\n",
            "  Downloading nvidia_nvjitlink_cu12-12.4.127-py3-none-manylinux2014_x86_64.whl.metadata (1.5 kB)\n",
            "Requirement already satisfied: triton==3.2.0 in /usr/local/lib/python3.11/dist-packages (from torch) (3.2.0)\n",
            "Requirement already satisfied: sympy==1.13.1 in /usr/local/lib/python3.11/dist-packages (from torch) (1.13.1)\n",
            "Requirement already satisfied: mpmath<1.4,>=1.1.0 in /usr/local/lib/python3.11/dist-packages (from sympy==1.13.1->torch) (1.3.0)\n",
            "Requirement already satisfied: numpy in /usr/local/lib/python3.11/dist-packages (from torchvision) (2.0.2)\n",
            "Requirement already satisfied: pillow!=8.3.*,>=5.3.0 in /usr/local/lib/python3.11/dist-packages (from torchvision) (11.2.1)\n",
            "Requirement already satisfied: MarkupSafe>=2.0 in /usr/local/lib/python3.11/dist-packages (from jinja2->torch) (3.0.2)\n",
            "Downloading nvidia_cublas_cu12-12.4.5.8-py3-none-manylinux2014_x86_64.whl (363.4 MB)\n",
            "\u001b[2K   \u001b[90m━━━━━━━━━━━━━━━━━━━━━━━━━━━━━━━━━━━━━━━━\u001b[0m \u001b[32m363.4/363.4 MB\u001b[0m \u001b[31m3.3 MB/s\u001b[0m eta \u001b[36m0:00:00\u001b[0m\n",
            "\u001b[?25hDownloading nvidia_cuda_cupti_cu12-12.4.127-py3-none-manylinux2014_x86_64.whl (13.8 MB)\n",
            "\u001b[2K   \u001b[90m━━━━━━━━━━━━━━━━━━━━━━━━━━━━━━━━━━━━━━━━\u001b[0m \u001b[32m13.8/13.8 MB\u001b[0m \u001b[31m57.6 MB/s\u001b[0m eta \u001b[36m0:00:00\u001b[0m\n",
            "\u001b[?25hDownloading nvidia_cuda_nvrtc_cu12-12.4.127-py3-none-manylinux2014_x86_64.whl (24.6 MB)\n",
            "\u001b[2K   \u001b[90m━━━━━━━━━━━━━━━━━━━━━━━━━━━━━━━━━━━━━━━━\u001b[0m \u001b[32m24.6/24.6 MB\u001b[0m \u001b[31m47.4 MB/s\u001b[0m eta \u001b[36m0:00:00\u001b[0m\n",
            "\u001b[?25hDownloading nvidia_cuda_runtime_cu12-12.4.127-py3-none-manylinux2014_x86_64.whl (883 kB)\n",
            "\u001b[2K   \u001b[90m━━━━━━━━━━━━━━━━━━━━━━━━━━━━━━━━━━━━━━━━\u001b[0m \u001b[32m883.7/883.7 kB\u001b[0m \u001b[31m28.6 MB/s\u001b[0m eta \u001b[36m0:00:00\u001b[0m\n",
            "\u001b[?25hDownloading nvidia_cudnn_cu12-9.1.0.70-py3-none-manylinux2014_x86_64.whl (664.8 MB)\n",
            "\u001b[2K   \u001b[90m━━━━━━━━━━━━━━━━━━━━━━━━━━━━━━━━━━━━━━━━\u001b[0m \u001b[32m664.8/664.8 MB\u001b[0m \u001b[31m2.7 MB/s\u001b[0m eta \u001b[36m0:00:00\u001b[0m\n",
            "\u001b[?25hDownloading nvidia_cufft_cu12-11.2.1.3-py3-none-manylinux2014_x86_64.whl (211.5 MB)\n",
            "\u001b[2K   \u001b[90m━━━━━━━━━━━━━━━━━━━━━━━━━━━━━━━━━━━━━━━━\u001b[0m \u001b[32m211.5/211.5 MB\u001b[0m \u001b[31m5.8 MB/s\u001b[0m eta \u001b[36m0:00:00\u001b[0m\n",
            "\u001b[?25hDownloading nvidia_curand_cu12-10.3.5.147-py3-none-manylinux2014_x86_64.whl (56.3 MB)\n",
            "\u001b[2K   \u001b[90m━━━━━━━━━━━━━━━━━━━━━━━━━━━━━━━━━━━━━━━━\u001b[0m \u001b[32m56.3/56.3 MB\u001b[0m \u001b[31m11.8 MB/s\u001b[0m eta \u001b[36m0:00:00\u001b[0m\n",
            "\u001b[?25hDownloading nvidia_cusolver_cu12-11.6.1.9-py3-none-manylinux2014_x86_64.whl (127.9 MB)\n",
            "\u001b[2K   \u001b[90m━━━━━━━━━━━━━━━━━━━━━━━━━━━━━━━━━━━━━━━━\u001b[0m \u001b[32m127.9/127.9 MB\u001b[0m \u001b[31m6.6 MB/s\u001b[0m eta \u001b[36m0:00:00\u001b[0m\n",
            "\u001b[?25hDownloading nvidia_cusparse_cu12-12.3.1.170-py3-none-manylinux2014_x86_64.whl (207.5 MB)\n",
            "\u001b[2K   \u001b[90m━━━━━━━━━━━━━━━━━━━━━━━━━━━━━━━━━━━━━━━━\u001b[0m \u001b[32m207.5/207.5 MB\u001b[0m \u001b[31m6.0 MB/s\u001b[0m eta \u001b[36m0:00:00\u001b[0m\n",
            "\u001b[?25hDownloading nvidia_nvjitlink_cu12-12.4.127-py3-none-manylinux2014_x86_64.whl (21.1 MB)\n",
            "\u001b[2K   \u001b[90m━━━━━━━━━━━━━━━━━━━━━━━━━━━━━━━━━━━━━━━━\u001b[0m \u001b[32m21.1/21.1 MB\u001b[0m \u001b[31m62.8 MB/s\u001b[0m eta \u001b[36m0:00:00\u001b[0m\n",
            "\u001b[?25hInstalling collected packages: nvidia-nvjitlink-cu12, nvidia-curand-cu12, nvidia-cufft-cu12, nvidia-cuda-runtime-cu12, nvidia-cuda-nvrtc-cu12, nvidia-cuda-cupti-cu12, nvidia-cublas-cu12, nvidia-cusparse-cu12, nvidia-cudnn-cu12, nvidia-cusolver-cu12\n",
            "  Attempting uninstall: nvidia-nvjitlink-cu12\n",
            "    Found existing installation: nvidia-nvjitlink-cu12 12.5.82\n",
            "    Uninstalling nvidia-nvjitlink-cu12-12.5.82:\n",
            "      Successfully uninstalled nvidia-nvjitlink-cu12-12.5.82\n",
            "  Attempting uninstall: nvidia-curand-cu12\n",
            "    Found existing installation: nvidia-curand-cu12 10.3.6.82\n",
            "    Uninstalling nvidia-curand-cu12-10.3.6.82:\n",
            "      Successfully uninstalled nvidia-curand-cu12-10.3.6.82\n",
            "  Attempting uninstall: nvidia-cufft-cu12\n",
            "    Found existing installation: nvidia-cufft-cu12 11.2.3.61\n",
            "    Uninstalling nvidia-cufft-cu12-11.2.3.61:\n",
            "      Successfully uninstalled nvidia-cufft-cu12-11.2.3.61\n",
            "  Attempting uninstall: nvidia-cuda-runtime-cu12\n",
            "    Found existing installation: nvidia-cuda-runtime-cu12 12.5.82\n",
            "    Uninstalling nvidia-cuda-runtime-cu12-12.5.82:\n",
            "      Successfully uninstalled nvidia-cuda-runtime-cu12-12.5.82\n",
            "  Attempting uninstall: nvidia-cuda-nvrtc-cu12\n",
            "    Found existing installation: nvidia-cuda-nvrtc-cu12 12.5.82\n",
            "    Uninstalling nvidia-cuda-nvrtc-cu12-12.5.82:\n",
            "      Successfully uninstalled nvidia-cuda-nvrtc-cu12-12.5.82\n",
            "  Attempting uninstall: nvidia-cuda-cupti-cu12\n",
            "    Found existing installation: nvidia-cuda-cupti-cu12 12.5.82\n",
            "    Uninstalling nvidia-cuda-cupti-cu12-12.5.82:\n",
            "      Successfully uninstalled nvidia-cuda-cupti-cu12-12.5.82\n",
            "  Attempting uninstall: nvidia-cublas-cu12\n",
            "    Found existing installation: nvidia-cublas-cu12 12.5.3.2\n",
            "    Uninstalling nvidia-cublas-cu12-12.5.3.2:\n",
            "      Successfully uninstalled nvidia-cublas-cu12-12.5.3.2\n",
            "  Attempting uninstall: nvidia-cusparse-cu12\n",
            "    Found existing installation: nvidia-cusparse-cu12 12.5.1.3\n",
            "    Uninstalling nvidia-cusparse-cu12-12.5.1.3:\n",
            "      Successfully uninstalled nvidia-cusparse-cu12-12.5.1.3\n",
            "  Attempting uninstall: nvidia-cudnn-cu12\n",
            "    Found existing installation: nvidia-cudnn-cu12 9.3.0.75\n",
            "    Uninstalling nvidia-cudnn-cu12-9.3.0.75:\n",
            "      Successfully uninstalled nvidia-cudnn-cu12-9.3.0.75\n",
            "  Attempting uninstall: nvidia-cusolver-cu12\n",
            "    Found existing installation: nvidia-cusolver-cu12 11.6.3.83\n",
            "    Uninstalling nvidia-cusolver-cu12-11.6.3.83:\n",
            "      Successfully uninstalled nvidia-cusolver-cu12-11.6.3.83\n",
            "Successfully installed nvidia-cublas-cu12-12.4.5.8 nvidia-cuda-cupti-cu12-12.4.127 nvidia-cuda-nvrtc-cu12-12.4.127 nvidia-cuda-runtime-cu12-12.4.127 nvidia-cudnn-cu12-9.1.0.70 nvidia-cufft-cu12-11.2.1.3 nvidia-curand-cu12-10.3.5.147 nvidia-cusolver-cu12-11.6.1.9 nvidia-cusparse-cu12-12.3.1.170 nvidia-nvjitlink-cu12-12.4.127\n"
          ]
        }
      ],
      "source": [
        "!pip install torch torchvision"
      ]
    },
    {
      "cell_type": "code",
      "source": [
        "import torch\n",
        "import torch.nn as nn\n",
        "import torch.nn.functional as F\n",
        "import torch.optim as optim\n",
        "import torchvision\n",
        "from torchvision import datasets, transforms\n",
        "from torch.autograd import Variable\n",
        "import matplotlib.pyplot as plt"
      ],
      "metadata": {
        "id": "uN4vOWs5rVYn"
      },
      "execution_count": 2,
      "outputs": []
    },
    {
      "cell_type": "markdown",
      "source": [
        "## Choosing processing unit"
      ],
      "metadata": {
        "id": "qIsLbhHdsZww"
      }
    },
    {
      "cell_type": "code",
      "source": [
        "device = torch.device(\"cuda:0\" if torch.cuda.is_available() else \"cpu\")"
      ],
      "metadata": {
        "id": "eqJSh9GZr2UR"
      },
      "execution_count": 4,
      "outputs": []
    },
    {
      "cell_type": "markdown",
      "source": [
        "## Data download and transform"
      ],
      "metadata": {
        "id": "1ny7m_WJseuS"
      }
    },
    {
      "cell_type": "code",
      "source": [
        "train_set = torchvision.datasets.MNIST(\n",
        "    root='./data/MNIST',\n",
        "    train=True,\n",
        "    download=True,\n",
        "    transform=transforms.Compose([\n",
        "        transforms.Resize((28, 28)),\n",
        "        transforms.ToTensor(),\n",
        "        transforms.Normalize((0.5,), (0.5,)),\n",
        "    ])\n",
        ")\n",
        "\n",
        "test_set = torchvision.datasets.MNIST(\n",
        "    root='./data/MNIST',\n",
        "    train=False,\n",
        "    download=True,\n",
        "    transform=transforms.Compose([\n",
        "        transforms.Resize((28, 28)),\n",
        "        transforms.ToTensor(),\n",
        "        transforms.Normalize((0.5,), (0.5,)),\n",
        "    ])\n",
        ")"
      ],
      "metadata": {
        "colab": {
          "base_uri": "https://localhost:8080/"
        },
        "id": "gWcaPeqRsCCT",
        "outputId": "3369abda-d039-4c42-8cda-adf0655b0ec1"
      },
      "execution_count": 5,
      "outputs": [
        {
          "output_type": "stream",
          "name": "stderr",
          "text": [
            "100%|██████████| 9.91M/9.91M [00:00<00:00, 37.9MB/s]\n",
            "100%|██████████| 28.9k/28.9k [00:00<00:00, 1.07MB/s]\n",
            "100%|██████████| 1.65M/1.65M [00:00<00:00, 9.64MB/s]\n",
            "100%|██████████| 4.54k/4.54k [00:00<00:00, 3.73MB/s]\n"
          ]
        }
      ]
    },
    {
      "cell_type": "markdown",
      "source": [
        "## Defining dataloading modules"
      ],
      "metadata": {
        "id": "LBugXCRdsqtN"
      }
    },
    {
      "cell_type": "code",
      "source": [
        "trainloader = torch.utils.data.DataLoader(train_set, batch_size=64, shuffle=True, drop_last=True)\n",
        "testloader = torch.utils.data.DataLoader(test_set, batch_size=64, shuffle=False, drop_last=True)"
      ],
      "metadata": {
        "id": "uN6wc2tesn1E"
      },
      "execution_count": 6,
      "outputs": []
    },
    {
      "cell_type": "markdown",
      "source": [
        "## Interation in batch (for progress of batches)"
      ],
      "metadata": {
        "id": "90eAwlfqtAsf"
      }
    },
    {
      "cell_type": "code",
      "source": [
        "sample = next(iter(train_set))\n",
        "image = sample[0]\n",
        "label = sample[1]\n",
        "image.shape"
      ],
      "metadata": {
        "colab": {
          "base_uri": "https://localhost:8080/"
        },
        "id": "CBz1Uv5Us5JH",
        "outputId": "b2780d36-bb68-41ff-9f61-93c031ab7919"
      },
      "execution_count": 8,
      "outputs": [
        {
          "output_type": "execute_result",
          "data": {
            "text/plain": [
              "torch.Size([1, 28, 28])"
            ]
          },
          "metadata": {},
          "execution_count": 8
        }
      ]
    },
    {
      "cell_type": "markdown",
      "source": [
        "## Visualizing the dataset"
      ],
      "metadata": {
        "id": "d4YmoCZEtUF8"
      }
    },
    {
      "cell_type": "code",
      "source": [
        "images = []\n",
        "labels = []\n",
        "for i, (image, label) in enumerate(trainloader):\n",
        "    if i == 0:\n",
        "        images, labels = image, label\n",
        "        break"
      ],
      "metadata": {
        "id": "w4l0PpKkuCmV"
      },
      "execution_count": 10,
      "outputs": []
    },
    {
      "cell_type": "code",
      "source": [
        "n = 9\n",
        "for index in range(1, n + 1):\n",
        "  plt.subplot(3, 3, index)\n",
        "  plt.imshow(images[index].numpy().squeeze(), cmap='Blues')"
      ],
      "metadata": {
        "colab": {
          "base_uri": "https://localhost:8080/",
          "height": 433
        },
        "id": "aYcj3ooetNfV",
        "outputId": "23802614-fa25-4a99-cacb-c353ca3c4b01"
      },
      "execution_count": 11,
      "outputs": [
        {
          "output_type": "display_data",
          "data": {
            "text/plain": [
              "<Figure size 640x480 with 9 Axes>"
            ],
            "image/png": "[encoded data removed]"
          },
          "metadata": {}
        }
      ]
    },
    {
      "cell_type": "markdown",
      "source": [
        "## Creating CNN"
      ],
      "metadata": {
        "id": "SPz_uKjmuZCn"
      }
    },
    {
      "cell_type": "code",
      "source": [
        "class Network(nn.Module):\n",
        "    def __init__(self):\n",
        "        super().__init__()\n",
        "        self.conv1 = nn.Conv2d(in_channels=1, out_channels=6, kernel_size=5)\n",
        "        self.conv2 = nn.Conv2d(in_channels=6, out_channels=12, kernel_size=5)\n",
        "        self.fc1 = nn.Linear(in_features=12*4*4, out_features=120)\n",
        "        self.fc2 = nn.Linear(in_features=120, out_features=60)\n",
        "        self.out = nn.Linear(in_features=60, out_features=10)\n",
        "\n",
        "    def forward(self, t):\n",
        "        t = F.relu(self.conv1(t))\n",
        "        t = F.max_pool2d(t, kernel_size=2, stride=2)\n",
        "\n",
        "        t = F.relu(self.conv2(t))\n",
        "        t = F.max_pool2d(t, kernel_size=2, stride=2)\n",
        "\n",
        "        t = F.relu(self.fc1(t.reshape(-1, 12*4*4)))\n",
        "        t = F.relu(self.fc2(t))\n",
        "        t = self.out(t)\n",
        "        return t"
      ],
      "metadata": {
        "id": "SvhLA34yt_GJ"
      },
      "execution_count": 13,
      "outputs": []
    },
    {
      "cell_type": "markdown",
      "source": [
        "## Creating object of network"
      ],
      "metadata": {
        "id": "dJHsK7a1uyS8"
      }
    },
    {
      "cell_type": "code",
      "source": [
        "network = Network()"
      ],
      "metadata": {
        "id": "wUzhdEeOuw5W"
      },
      "execution_count": 14,
      "outputs": []
    },
    {
      "cell_type": "markdown",
      "source": [
        "## Defining loss, learning rate and optimizer"
      ],
      "metadata": {
        "id": "J-8VwVn6vLLJ"
      }
    },
    {
      "cell_type": "code",
      "source": [
        "network.to(device)\n",
        "\n",
        "# defining the Loss\n",
        "error = nn.CrossEntropyLoss()\n",
        "\n",
        "## defining the Lr and optimizer\n",
        "learning_rate = 0.001\n",
        "optimizer = torch.optim.Adam(network.parameters(), lr=learning_rate)"
      ],
      "metadata": {
        "id": "ZrPaeLrGu4RS"
      },
      "execution_count": 15,
      "outputs": []
    },
    {
      "cell_type": "markdown",
      "source": [
        "## Network training"
      ],
      "metadata": {
        "id": "UFgytvPfvkGf"
      }
    },
    {
      "cell_type": "code",
      "source": [
        "network.cpu()\n",
        "\n",
        "num_epochs = 5\n",
        "count = 0\n",
        "\n",
        "loss_list = []\n",
        "iteration_list = []\n",
        "accuracy_list = []\n",
        "\n",
        "# Lists for knowing classwise accuracy\n",
        "predictions_list = []\n",
        "labels_list = []\n",
        "\n",
        "for epoch in range(num_epochs):\n",
        "    for images, labels in trainloader:\n",
        "        images, labels = images.to(device), labels.to(device)\n",
        "\n",
        "        train = Variable(images.view(64, 1, 28, 28))\n",
        "        labels = Variable(labels)\n",
        "\n",
        "        outputs = network(train)\n",
        "        loss = error(outputs, labels)\n",
        "\n",
        "        optimizer.zero_grad()\n",
        "        loss.backward()\n",
        "        optimizer.step()\n",
        "        count += 1\n",
        "\n",
        "        if not (count % 50):\n",
        "            total = 0\n",
        "            correct = 0\n",
        "            for images, labels in testloader:\n",
        "                images, labels = images.to(device), labels.to(device)\n",
        "                labels_list.append(labels)\n",
        "                test = Variable(images.view(64, 1, 28, 28))\n",
        "                outputs = network(test)\n",
        "                predictions = torch.max(outputs, 1)[1].to(device)\n",
        "                predictions_list.append(predictions)\n",
        "                correct += (predictions == labels).sum()\n",
        "                total += len(labels)\n",
        "\n",
        "            accuracy = correct * 100 / total\n",
        "            loss_list.append(loss.data)\n",
        "            iteration_list.append(count)\n",
        "            accuracy_list.append(accuracy)\n",
        "\n",
        "            if not (count % 50):\n",
        "                print(\"Iteration: {}, Loss: {}, Accuracy: {}%\".format(count, loss.data, accuracy))"
      ],
      "metadata": {
        "colab": {
          "base_uri": "https://localhost:8080/"
        },
        "id": "09uy1ULUvjHn",
        "outputId": "876a3d1f-415b-47d8-bb0c-6330aea5e454"
      },
      "execution_count": 18,
      "outputs": [
        {
          "output_type": "stream",
          "name": "stdout",
          "text": [
            "Iteration: 50, Loss: 0.04952568560838699, Accuracy: 98.77804565429688%\n",
            "Iteration: 100, Loss: 0.03193007782101631, Accuracy: 98.79808044433594%\n",
            "Iteration: 150, Loss: 0.008555353619158268, Accuracy: 98.74799346923828%\n",
            "Iteration: 200, Loss: 0.016673462465405464, Accuracy: 98.84815979003906%\n",
            "Iteration: 250, Loss: 0.005197218619287014, Accuracy: 98.70793151855469%\n",
            "Iteration: 300, Loss: 0.009294908493757248, Accuracy: 98.70793151855469%\n",
            "Iteration: 350, Loss: 0.006637761369347572, Accuracy: 98.60777282714844%\n",
            "Iteration: 400, Loss: 0.02836209535598755, Accuracy: 98.85816955566406%\n",
            "Iteration: 450, Loss: 0.017914285883307457, Accuracy: 98.80809020996094%\n",
            "Iteration: 500, Loss: 0.0003913528344128281, Accuracy: 98.81810760498047%\n",
            "Iteration: 550, Loss: 0.008407152257859707, Accuracy: 98.60777282714844%\n",
            "Iteration: 600, Loss: 0.02014019526541233, Accuracy: 98.85816955566406%\n",
            "Iteration: 650, Loss: 0.006410832982510328, Accuracy: 98.88822174072266%\n",
            "Iteration: 700, Loss: 0.02849770337343216, Accuracy: 98.84815979003906%\n",
            "Iteration: 750, Loss: 0.006398497149348259, Accuracy: 98.81810760498047%\n",
            "Iteration: 800, Loss: 0.004374256823211908, Accuracy: 98.51763153076172%\n",
            "Iteration: 850, Loss: 0.0014183598104864359, Accuracy: 98.6378173828125%\n",
            "Iteration: 900, Loss: 0.026236630976200104, Accuracy: 98.74799346923828%\n",
            "Iteration: 950, Loss: 0.0002569412172306329, Accuracy: 98.7880630493164%\n",
            "Iteration: 1000, Loss: 0.001227972679771483, Accuracy: 98.73798370361328%\n",
            "Iteration: 1050, Loss: 0.0031507040839642286, Accuracy: 98.74799346923828%\n",
            "Iteration: 1100, Loss: 0.13109521567821503, Accuracy: 98.7880630493164%\n",
            "Iteration: 1150, Loss: 0.0006203181692399085, Accuracy: 98.84815979003906%\n",
            "Iteration: 1200, Loss: 0.0054758633486926556, Accuracy: 98.85816955566406%\n",
            "Iteration: 1250, Loss: 0.0005942354910075665, Accuracy: 98.57772064208984%\n",
            "Iteration: 1300, Loss: 0.000809733581263572, Accuracy: 98.79808044433594%\n",
            "Iteration: 1350, Loss: 0.029820777475833893, Accuracy: 98.85816955566406%\n",
            "Iteration: 1400, Loss: 0.0022739400155842304, Accuracy: 98.88822174072266%\n",
            "Iteration: 1450, Loss: 0.0028993533924221992, Accuracy: 98.92828369140625%\n",
            "Iteration: 1500, Loss: 0.004123353399336338, Accuracy: 98.51763153076172%\n",
            "Iteration: 1550, Loss: 0.010195974260568619, Accuracy: 98.88822174072266%\n",
            "Iteration: 1600, Loss: 0.001000402495265007, Accuracy: 98.828125%\n",
            "Iteration: 1650, Loss: 0.008785251528024673, Accuracy: 98.46754455566406%\n",
            "Iteration: 1700, Loss: 0.00102970190346241, Accuracy: 98.70793151855469%\n",
            "Iteration: 1750, Loss: 0.0005924211000092328, Accuracy: 98.77804565429688%\n",
            "Iteration: 1800, Loss: 0.09124002605676651, Accuracy: 98.60777282714844%\n",
            "Iteration: 1850, Loss: 0.0029333990532904863, Accuracy: 98.74799346923828%\n",
            "Iteration: 1900, Loss: 0.001165251131169498, Accuracy: 98.9883804321289%\n",
            "Iteration: 1950, Loss: 0.007491908967494965, Accuracy: 98.87820434570312%\n",
            "Iteration: 2000, Loss: 0.035420987755060196, Accuracy: 98.87820434570312%\n",
            "Iteration: 2050, Loss: 0.001511966111138463, Accuracy: 98.7880630493164%\n",
            "Iteration: 2100, Loss: 0.0010516606271266937, Accuracy: 98.70793151855469%\n",
            "Iteration: 2150, Loss: 0.0004308168136049062, Accuracy: 98.90825653076172%\n",
            "Iteration: 2200, Loss: 0.035542357712984085, Accuracy: 98.80809020996094%\n",
            "Iteration: 2250, Loss: 0.0009649853454902768, Accuracy: 98.75801086425781%\n",
            "Iteration: 2300, Loss: 0.020975207909941673, Accuracy: 98.80809020996094%\n",
            "Iteration: 2350, Loss: 0.02270183153450489, Accuracy: 98.84815979003906%\n",
            "Iteration: 2400, Loss: 0.018909456208348274, Accuracy: 98.6678695678711%\n",
            "Iteration: 2450, Loss: 0.04705764725804329, Accuracy: 98.5977554321289%\n",
            "Iteration: 2500, Loss: 0.08619990199804306, Accuracy: 98.67788696289062%\n",
            "Iteration: 2550, Loss: 0.0006188387051224709, Accuracy: 98.73798370361328%\n",
            "Iteration: 2600, Loss: 0.000915791722945869, Accuracy: 98.54767608642578%\n",
            "Iteration: 2650, Loss: 0.0003148126706946641, Accuracy: 98.58773803710938%\n",
            "Iteration: 2700, Loss: 0.005303468555212021, Accuracy: 98.60777282714844%\n",
            "Iteration: 2750, Loss: 0.0026215568650513887, Accuracy: 98.52764129638672%\n",
            "Iteration: 2800, Loss: 0.004019387997686863, Accuracy: 98.77804565429688%\n",
            "Iteration: 2850, Loss: 0.05698484927415848, Accuracy: 98.93830108642578%\n",
            "Iteration: 2900, Loss: 0.002010038821026683, Accuracy: 98.87820434570312%\n",
            "Iteration: 2950, Loss: 0.0005615731352008879, Accuracy: 98.91826629638672%\n",
            "Iteration: 3000, Loss: 0.016724174842238426, Accuracy: 98.84815979003906%\n",
            "Iteration: 3050, Loss: 0.008204284124076366, Accuracy: 98.84815979003906%\n",
            "Iteration: 3100, Loss: 0.006558517459779978, Accuracy: 98.88822174072266%\n",
            "Iteration: 3150, Loss: 0.039938025176525116, Accuracy: 98.5977554321289%\n",
            "Iteration: 3200, Loss: 0.008949334733188152, Accuracy: 98.61779022216797%\n",
            "Iteration: 3250, Loss: 0.0009875749237835407, Accuracy: 98.83814239501953%\n",
            "Iteration: 3300, Loss: 0.12600138783454895, Accuracy: 98.85816955566406%\n",
            "Iteration: 3350, Loss: 0.0057542817667126656, Accuracy: 98.70793151855469%\n",
            "Iteration: 3400, Loss: 0.0003424911410547793, Accuracy: 98.6678695678711%\n",
            "Iteration: 3450, Loss: 0.02701529674232006, Accuracy: 98.94831848144531%\n",
            "Iteration: 3500, Loss: 0.023264789953827858, Accuracy: 98.64783477783203%\n",
            "Iteration: 3550, Loss: 0.0328938290476799, Accuracy: 98.87820434570312%\n",
            "Iteration: 3600, Loss: 0.03801910579204559, Accuracy: 98.60777282714844%\n",
            "Iteration: 3650, Loss: 0.012798480689525604, Accuracy: 98.70793151855469%\n",
            "Iteration: 3700, Loss: 0.0003554506110958755, Accuracy: 98.84815979003906%\n",
            "Iteration: 3750, Loss: 0.0176747627556324, Accuracy: 98.84815979003906%\n",
            "Iteration: 3800, Loss: 0.03739634156227112, Accuracy: 98.828125%\n",
            "Iteration: 3850, Loss: 0.0005518023390322924, Accuracy: 98.89823913574219%\n",
            "Iteration: 3900, Loss: 0.0037213340401649475, Accuracy: 98.77804565429688%\n",
            "Iteration: 3950, Loss: 0.0038061635568737984, Accuracy: 98.75801086425781%\n",
            "Iteration: 4000, Loss: 0.001291028456762433, Accuracy: 98.69791412353516%\n",
            "Iteration: 4050, Loss: 3.4490294638089836e-05, Accuracy: 98.88822174072266%\n",
            "Iteration: 4100, Loss: 0.001530007808469236, Accuracy: 98.77804565429688%\n",
            "Iteration: 4150, Loss: 0.013441738672554493, Accuracy: 98.61779022216797%\n",
            "Iteration: 4200, Loss: 0.07822953909635544, Accuracy: 98.76802825927734%\n",
            "Iteration: 4250, Loss: 0.004144841339439154, Accuracy: 98.54767608642578%\n",
            "Iteration: 4300, Loss: 0.000972957699559629, Accuracy: 98.67788696289062%\n",
            "Iteration: 4350, Loss: 0.0022175239864736795, Accuracy: 98.72796630859375%\n",
            "Iteration: 4400, Loss: 0.0013401176547631621, Accuracy: 98.7880630493164%\n",
            "Iteration: 4450, Loss: 0.004952071234583855, Accuracy: 98.71794891357422%\n",
            "Iteration: 4500, Loss: 0.04528641700744629, Accuracy: 98.75801086425781%\n",
            "Iteration: 4550, Loss: 0.0003332642372697592, Accuracy: 98.88822174072266%\n",
            "Iteration: 4600, Loss: 0.00015759227972012013, Accuracy: 98.70793151855469%\n",
            "Iteration: 4650, Loss: 0.0006271795718930662, Accuracy: 98.77804565429688%\n"
          ]
        }
      ]
    }
  ]
}
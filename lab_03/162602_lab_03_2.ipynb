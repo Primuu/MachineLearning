{
 "cells": [
  {
   "cell_type": "markdown",
   "source": [
    "# Adam Trentowski - 162602 - Machine Learning\n",
    "## lab_03/2\n",
    "## Library Imports"
   ],
   "metadata": {
    "collapsed": false
   },
   "id": "db65060aad4b2ca5"
  },
  {
   "cell_type": "code",
   "execution_count": 20,
   "id": "initial_id",
   "metadata": {
    "collapsed": true,
    "ExecuteTime": {
     "end_time": "2025-03-20T17:13:13.691030Z",
     "start_time": "2025-03-20T17:13:13.685367Z"
    }
   },
   "outputs": [],
   "source": [
    "import pandas as pd\n",
    "from sklearn.model_selection import train_test_split\n",
    "from sklearn.linear_model import LogisticRegression\n",
    "from sklearn.model_selection import cross_val_score, KFold, LeaveOneOut\n",
    "from sklearn.datasets import make_classification\n",
    "from matplotlib import pyplot\n",
    "from numpy import mean"
   ]
  },
  {
   "cell_type": "markdown",
   "source": [
    "## Load dataset"
   ],
   "metadata": {
    "collapsed": false
   },
   "id": "89b67b83c9a8bbf8"
  },
  {
   "cell_type": "code",
   "outputs": [
    {
     "data": {
      "text/plain": "        PSU     O2  temp.    SS    DOC    TPOC  Windspeedinsitu  Depth  Years\n0  3.757624   9.46   18.3  52.0  7.500  8.5650              3.5    3.3      0\n1  3.504707   9.89   19.1  50.0  7.860  8.5200              0.0    3.6      0\n2  3.757624   9.66   18.1  59.0  8.172  8.4915              1.0    3.4      0\n3  3.107266  10.36   19.5  46.0  7.848  8.8320              0.0    2.9      0\n4  2.619498  11.56   19.0  42.0  7.536  9.2400              0.0    3.0      0",
      "text/html": "<div>\n<style scoped>\n    .dataframe tbody tr th:only-of-type {\n        vertical-align: middle;\n    }\n\n    .dataframe tbody tr th {\n        vertical-align: top;\n    }\n\n    .dataframe thead th {\n        text-align: right;\n    }\n</style>\n<table border=\"1\" class=\"dataframe\">\n  <thead>\n    <tr style=\"text-align: right;\">\n      <th></th>\n      <th>PSU</th>\n      <th>O2</th>\n      <th>temp.</th>\n      <th>SS</th>\n      <th>DOC</th>\n      <th>TPOC</th>\n      <th>Windspeedinsitu</th>\n      <th>Depth</th>\n      <th>Years</th>\n    </tr>\n  </thead>\n  <tbody>\n    <tr>\n      <th>0</th>\n      <td>3.757624</td>\n      <td>9.46</td>\n      <td>18.3</td>\n      <td>52.0</td>\n      <td>7.500</td>\n      <td>8.5650</td>\n      <td>3.5</td>\n      <td>3.3</td>\n      <td>0</td>\n    </tr>\n    <tr>\n      <th>1</th>\n      <td>3.504707</td>\n      <td>9.89</td>\n      <td>19.1</td>\n      <td>50.0</td>\n      <td>7.860</td>\n      <td>8.5200</td>\n      <td>0.0</td>\n      <td>3.6</td>\n      <td>0</td>\n    </tr>\n    <tr>\n      <th>2</th>\n      <td>3.757624</td>\n      <td>9.66</td>\n      <td>18.1</td>\n      <td>59.0</td>\n      <td>8.172</td>\n      <td>8.4915</td>\n      <td>1.0</td>\n      <td>3.4</td>\n      <td>0</td>\n    </tr>\n    <tr>\n      <th>3</th>\n      <td>3.107266</td>\n      <td>10.36</td>\n      <td>19.5</td>\n      <td>46.0</td>\n      <td>7.848</td>\n      <td>8.8320</td>\n      <td>0.0</td>\n      <td>2.9</td>\n      <td>0</td>\n    </tr>\n    <tr>\n      <th>4</th>\n      <td>2.619498</td>\n      <td>11.56</td>\n      <td>19.0</td>\n      <td>42.0</td>\n      <td>7.536</td>\n      <td>9.2400</td>\n      <td>0.0</td>\n      <td>3.0</td>\n      <td>0</td>\n    </tr>\n  </tbody>\n</table>\n</div>"
     },
     "execution_count": 6,
     "metadata": {},
     "output_type": "execute_result"
    }
   ],
   "source": [
    "dataset = pd.read_csv('VLagun_Phys_Years3.csv')\n",
    "dataset.head()"
   ],
   "metadata": {
    "collapsed": false,
    "ExecuteTime": {
     "end_time": "2025-03-20T17:03:08.508966Z",
     "start_time": "2025-03-20T17:03:08.490897Z"
    }
   },
   "id": "9093a8f0b1c407cc",
   "execution_count": 6
  },
  {
   "cell_type": "markdown",
   "source": [
    "## Isolation of X and Y"
   ],
   "metadata": {
    "collapsed": false
   },
   "id": "e46c2ebf1e6423c3"
  },
  {
   "cell_type": "code",
   "outputs": [],
   "source": [
    "X = dataset.iloc[:, :-1]\n",
    "y = dataset.iloc[:, -1]"
   ],
   "metadata": {
    "collapsed": false,
    "ExecuteTime": {
     "end_time": "2025-03-20T17:03:14.570484Z",
     "start_time": "2025-03-20T17:03:14.563814Z"
    }
   },
   "id": "36cff932d5f872ca",
   "execution_count": 7
  },
  {
   "cell_type": "code",
   "outputs": [
    {
     "data": {
      "text/plain": "((120, 8), (120,))"
     },
     "execution_count": 8,
     "metadata": {},
     "output_type": "execute_result"
    }
   ],
   "source": [
    "X.shape, y.shape"
   ],
   "metadata": {
    "collapsed": false,
    "ExecuteTime": {
     "end_time": "2025-03-20T17:03:22.890759Z",
     "start_time": "2025-03-20T17:03:22.879809Z"
    }
   },
   "id": "3cb4a4266dea37d0",
   "execution_count": 8
  },
  {
   "cell_type": "markdown",
   "source": [
    "## Dataset split into train/test sets"
   ],
   "metadata": {
    "collapsed": false
   },
   "id": "76bccc69206d4e4"
  },
  {
   "cell_type": "code",
   "outputs": [],
   "source": [
    "X_train, X_test, y_train, y_test = train_test_split(\n",
    "    X, y, test_size=0.3, random_state=0\n",
    ")"
   ],
   "metadata": {
    "collapsed": false,
    "ExecuteTime": {
     "end_time": "2025-03-20T17:05:58.334127Z",
     "start_time": "2025-03-20T17:05:58.327032Z"
    }
   },
   "id": "5257c9a3eb9aab9e",
   "execution_count": 10
  },
  {
   "cell_type": "code",
   "outputs": [],
   "source": [
    "features, targets = X, y"
   ],
   "metadata": {
    "collapsed": false,
    "ExecuteTime": {
     "end_time": "2025-03-20T17:06:05.211516Z",
     "start_time": "2025-03-20T17:06:05.204668Z"
    }
   },
   "id": "2275cddb46ea31b5",
   "execution_count": 11
  },
  {
   "cell_type": "markdown",
   "source": [
    "## Functions to get dataset, create model and evaluation"
   ],
   "metadata": {
    "collapsed": false
   },
   "id": "db42151171de5f8c"
  },
  {
   "cell_type": "code",
   "outputs": [],
   "source": [
    "def get_dataset(n_samples=120):\n",
    "    X, y = make_classification(\n",
    "        n_samples=n_samples, n_features=7, n_classes=2, random_state=1\n",
    "    )\n",
    "    return X, y"
   ],
   "metadata": {
    "collapsed": false,
    "ExecuteTime": {
     "end_time": "2025-03-20T17:06:45.738958Z",
     "start_time": "2025-03-20T17:06:45.732397Z"
    }
   },
   "id": "91d6b9d587ee7568",
   "execution_count": 12
  },
  {
   "cell_type": "code",
   "outputs": [],
   "source": [
    "def get_model():\n",
    "    model = LogisticRegression()\n",
    "    return model"
   ],
   "metadata": {
    "collapsed": false,
    "ExecuteTime": {
     "end_time": "2025-03-20T17:06:49.281725Z",
     "start_time": "2025-03-20T17:06:49.274708Z"
    }
   },
   "id": "7ac69c081dab5dc4",
   "execution_count": 13
  },
  {
   "cell_type": "code",
   "outputs": [],
   "source": [
    "def evaluate_model(cv):\n",
    "    X, y = get_dataset()\n",
    "    model = get_model()\n",
    "    scores = cross_val_score(model, X, y, scoring='accuracy', cv=cv, n_jobs=-1)\n",
    "    return mean(scores), scores.min(), scores.max()"
   ],
   "metadata": {
    "collapsed": false,
    "ExecuteTime": {
     "end_time": "2025-03-20T17:08:58.363550Z",
     "start_time": "2025-03-20T17:08:58.357358Z"
    }
   },
   "id": "34299dd314cf4ea",
   "execution_count": 16
  },
  {
   "cell_type": "markdown",
   "source": [
    "## Calculation of the best test condition"
   ],
   "metadata": {
    "collapsed": false
   },
   "id": "3e7cbd3a0faf8a0e"
  },
  {
   "cell_type": "code",
   "outputs": [
    {
     "name": "stdout",
     "output_type": "stream",
     "text": [
      "Ideal: 0.867\n"
     ]
    }
   ],
   "source": [
    "ideal, _, _ = evaluate_model(LeaveOneOut())\n",
    "print('Ideal: %.3f' % ideal)"
   ],
   "metadata": {
    "collapsed": false,
    "ExecuteTime": {
     "end_time": "2025-03-20T17:09:16.372702Z",
     "start_time": "2025-03-20T17:08:58.752271Z"
    }
   },
   "id": "ce5dfe4967d9d53d",
   "execution_count": 17
  },
  {
   "cell_type": "markdown",
   "source": [
    "## Define fold ranges to test"
   ],
   "metadata": {
    "collapsed": false
   },
   "id": "6294f3435962a537"
  },
  {
   "cell_type": "code",
   "outputs": [],
   "source": [
    "folds = range(2, 31)\n",
    "means, mins, maxs = list(), list(), list()"
   ],
   "metadata": {
    "collapsed": false,
    "ExecuteTime": {
     "end_time": "2025-03-20T17:09:45.431193Z",
     "start_time": "2025-03-20T17:09:45.424814Z"
    }
   },
   "id": "669c7d6ec4221fc7",
   "execution_count": 18
  },
  {
   "cell_type": "markdown",
   "source": [
    "## Evaluatr each k value"
   ],
   "metadata": {
    "collapsed": false
   },
   "id": "92ff149a472c0752"
  },
  {
   "cell_type": "code",
   "outputs": [
    {
     "name": "stdout",
     "output_type": "stream",
     "text": [
      "> folds=2, accuracy=0.833 (0.817,0.850)\n",
      "> folds=3, accuracy=0.883 (0.825,0.925)\n",
      "> folds=4, accuracy=0.867 (0.767,0.967)\n",
      "> folds=5, accuracy=0.883 (0.792,1.000)\n",
      "> folds=6, accuracy=0.867 (0.750,1.000)\n",
      "> folds=7, accuracy=0.866 (0.647,1.000)\n",
      "> folds=8, accuracy=0.858 (0.667,1.000)\n",
      "> folds=9, accuracy=0.866 (0.615,1.000)\n",
      "> folds=10, accuracy=0.867 (0.583,1.000)\n",
      "> folds=11, accuracy=0.868 (0.636,1.000)\n",
      "> folds=12, accuracy=0.867 (0.600,1.000)\n",
      "> folds=13, accuracy=0.866 (0.556,1.000)\n",
      "> folds=14, accuracy=0.862 (0.667,1.000)\n",
      "> folds=15, accuracy=0.867 (0.500,1.000)\n",
      "> folds=16, accuracy=0.869 (0.500,1.000)\n",
      "> folds=17, accuracy=0.867 (0.429,1.000)\n",
      "> folds=18, accuracy=0.872 (0.571,1.000)\n",
      "> folds=19, accuracy=0.866 (0.500,1.000)\n",
      "> folds=20, accuracy=0.867 (0.500,1.000)\n",
      "> folds=21, accuracy=0.871 (0.500,1.000)\n",
      "> folds=22, accuracy=0.867 (0.400,1.000)\n",
      "> folds=23, accuracy=0.857 (0.400,1.000)\n",
      "> folds=24, accuracy=0.858 (0.400,1.000)\n",
      "> folds=25, accuracy=0.864 (0.400,1.000)\n",
      "> folds=26, accuracy=0.863 (0.400,1.000)\n",
      "> folds=27, accuracy=0.859 (0.250,1.000)\n",
      "> folds=28, accuracy=0.864 (0.250,1.000)\n",
      "> folds=29, accuracy=0.866 (0.250,1.000)\n",
      "> folds=30, accuracy=0.867 (0.250,1.000)\n"
     ]
    }
   ],
   "source": [
    "for k in folds:\n",
    "    cv = KFold(n_splits=k, shuffle=True, random_state=1)\n",
    "    k_mean, k_min, k_max = evaluate_model(cv)\n",
    "    print('> folds=%d, accuracy=%.3f (%.3f,%.3f)' % (k, k_mean, k_min, k_max))\n",
    "\n",
    "    means.append(k_mean)\n",
    "    mins.append(k_mean - k_min)\n",
    "    maxs.append(k_max - k_mean)"
   ],
   "metadata": {
    "collapsed": false,
    "ExecuteTime": {
     "end_time": "2025-03-20T17:12:25.871426Z",
     "start_time": "2025-03-20T17:12:24.608808Z"
    }
   },
   "id": "e79d8a8822e4f0b2",
   "execution_count": 19
  },
  {
   "cell_type": "markdown",
   "source": [
    "## Visualization"
   ],
   "metadata": {
    "collapsed": false
   },
   "id": "12c8c25527ec20a0"
  },
  {
   "cell_type": "code",
   "outputs": [
    {
     "data": {
      "text/plain": "<Figure size 640x480 with 1 Axes>",
      "image/png": "[encoded data removed]"
     },
     "metadata": {},
     "output_type": "display_data"
    }
   ],
   "source": [
    "pyplot.errorbar(folds, means, yerr=[mins, maxs], fmt='o')\n",
    "pyplot.plot(folds, [ideal for _ in range(len(folds))], color='r')\n",
    "pyplot.show()"
   ],
   "metadata": {
    "collapsed": false,
    "ExecuteTime": {
     "end_time": "2025-03-20T17:13:19.814109Z",
     "start_time": "2025-03-20T17:13:19.569078Z"
    }
   },
   "id": "19d6a5dd86f60532",
   "execution_count": 21
  },
  {
   "cell_type": "markdown",
   "source": [
    "Best accuracy scores:\n",
    "```\n",
    "> folds=3, accuracy=0.883 (0.825,0.925)\n",
    "...\n",
    "> folds=5, accuracy=0.883 (0.792,1.000)\n",
    "```\n",
    "so, the best k is = 3."
   ],
   "metadata": {
    "collapsed": false
   },
   "id": "46d4072085e6e7bc"
  }
 ],
 "metadata": {
  "kernelspec": {
   "display_name": "Python 3",
   "language": "python",
   "name": "python3"
  },
  "language_info": {
   "codemirror_mode": {
    "name": "ipython",
    "version": 2
   },
   "file_extension": ".py",
   "mimetype": "text/x-python",
   "name": "python",
   "nbconvert_exporter": "python",
   "pygments_lexer": "ipython2",
   "version": "2.7.6"
  }
 },
 "nbformat": 4,
 "nbformat_minor": 5
}

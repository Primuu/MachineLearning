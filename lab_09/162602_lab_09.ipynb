{
 "cells": [
  {
   "metadata": {},
   "cell_type": "markdown",
   "source": [
    "# Adam Trentowski - 162602 - Machine Learning\n",
    "## lab_09\n",
    "## Library Imports"
   ],
   "id": "d61f7cc5201211d6"
  },
  {
   "cell_type": "code",
   "id": "initial_id",
   "metadata": {
    "collapsed": true,
    "ExecuteTime": {
     "end_time": "2025-05-08T15:26:34.980136Z",
     "start_time": "2025-05-08T15:26:34.972759Z"
    }
   },
   "source": [
    "import pandas as pd\n",
    "import numpy as np\n",
    "from sklearn.model_selection import KFold\n",
    "from sklearn.linear_model import LogisticRegression, RidgeClassifier\n",
    "from sklearn.ensemble import RandomForestClassifier\n",
    "from sklearn.tree import DecisionTreeClassifier\n",
    "from sklearn.metrics import classification_report, accuracy_score, recall_score, f1_score, precision_score\n",
    "from sklearn.model_selection import train_test_split\n",
    "import matplotlib.pyplot as plt\n",
    "\n",
    "np.random.seed(np.sum([ord(i) for i in 'StackerPy Testing']))"
   ],
   "outputs": [],
   "execution_count": 9
  },
  {
   "metadata": {},
   "cell_type": "markdown",
   "source": [
    "## * Initialize a class, defining instance variables for later use\n",
    "## * Function to Model validation – checking the presence of prediction methods\n",
    "## * Static prediction method (probabilistic or classical)\n",
    "## * Function to Matching the Baseline and Blending Models\n",
    "## * Function to Prediction based on trained model stack"
   ],
   "id": "1838901bb36faaef"
  },
  {
   "metadata": {
    "ExecuteTime": {
     "end_time": "2025-05-08T15:41:07.973424Z",
     "start_time": "2025-05-08T15:41:07.952499Z"
    }
   },
   "cell_type": "code",
   "source": [
    "class StackerModel:\n",
    "    def __init__(self):\n",
    "        self.X = None\n",
    "        self.y = None\n",
    "        self.blend = None\n",
    "        self.splits = None\n",
    "        self.model_feature_indices = None\n",
    "        self.model_methods = []\n",
    "        self.metafeatures_df = None\n",
    "        self.X_with_metafeatures = None\n",
    "        self.raw_models = None\n",
    "        self.fit_models = dict()\n",
    "        self.fit_blended_models = dict()\n",
    "        self.raw_stacker = None\n",
    "        self.stacker = None\n",
    "\n",
    "    def validate_models(self, models):\n",
    "        for model in models:\n",
    "            model_name = model.__str__().split('(')[0]\n",
    "\n",
    "            assert any(['predict' in dir(model), 'predict_proba' in dir(model)]), \\\n",
    "                f\"\"\"{model_name} does not have a predict or predict_proba method\"\"\"\n",
    "\n",
    "            if 'predict_proba' not in dir(model) and 'predict' in dir(model):\n",
    "                print(f'Note: There is no predict_proba method in {model_name}, therefore predict method will be used')\n",
    "                self.model_methods.append('predict')\n",
    "\n",
    "            if 'predict_proba' in dir(model):\n",
    "                self.model_methods.append('predict_proba')\n",
    "\n",
    "    @staticmethod\n",
    "    def model_predictor(model, X, method):\n",
    "        predictions = None\n",
    "        if method == 'predict_proba':\n",
    "            predictions = model.predict_proba(X)[:, 1]\n",
    "        if method == 'predict':\n",
    "            predictions = model.predict(X)\n",
    "\n",
    "        return predictions\n",
    "\n",
    "    def fit(self, X, y, models, stacker, blend=False, splits=5, model_feature_indices=None):\n",
    "        self.__init__()\n",
    "        self.raw_models = models\n",
    "        self.raw_stacker = stacker\n",
    "        self.blend = blend\n",
    "        self.splits = splits\n",
    "        self.model_feature_indices = model_feature_indices\n",
    "        self.validate_models(models)\n",
    "\n",
    "        if not isinstance(X, pd.DataFrame):\n",
    "            X = pd.DataFrame(X).reset_index(drop=True)\n",
    "        if not isinstance(y, pd.DataFrame):\n",
    "            y = pd.DataFrame(y).reset_index(drop=True)\n",
    "\n",
    "        if self.model_feature_indices is None:\n",
    "            self.model_feature_indices = [[i for i in range(X.shape[1])] for _ in models]\n",
    "\n",
    "        self.model_names_list = [model.__str__().split('(')[0] for model in self.raw_models]\n",
    "        self.metafeatures_df = pd.DataFrame(index=range(X.shape[0]), columns=self.model_names_list)\n",
    "\n",
    "        for model, features, method in zip(self.raw_models, self.model_feature_indices, self.model_methods):\n",
    "            model_name = model.__str__().split('(')[0]\n",
    "            X_model_features = X.iloc[:, features]\n",
    "\n",
    "            metafeatures = None\n",
    "\n",
    "            if self.blend is False:\n",
    "                model.fit(X_model_features, np.ravel(y))\n",
    "                metafeatures = self.model_predictor(model, X_model_features, method)\n",
    "                self.fit_models[model_name] = model\n",
    "\n",
    "            if self.blend is True:\n",
    "                self.fit_blended_models[model_name] = []\n",
    "                kf = KFold(n_splits=self.splits)\n",
    "                metafeatures = pd.Series(np.zeros(X.shape[0]))\n",
    "\n",
    "                for idx, (train_idx, meta_idx) in enumerate(kf.split(X_model_features)):\n",
    "                    model.fit(X_model_features.iloc[train_idx, :], np.ravel(y.iloc[train_idx, :]))\n",
    "                    meta = self.model_predictor(model, X_model_features.iloc[meta_idx, :], method)\n",
    "                    metafeatures.iloc[meta_idx] = meta\n",
    "                    self.fit_blended_models[model_name].append(model)\n",
    "\n",
    "                self.metafeatures_df[model_name] = metafeatures\n",
    "\n",
    "        self.X_with_metafeatures = pd.concat([X.reset_index(drop=True), self.metafeatures_df.reset_index(drop=True)], axis=1)\n",
    "        self.stacker = stacker.fit(self.X_with_metafeatures, np.ravel(y))\n",
    "\n",
    "    def predict(self, X):\n",
    "        if not isinstance(X, pd.DataFrame):\n",
    "            X = pd.DataFrame(X).reset_index()\n",
    "\n",
    "        metafeatures_df = pd.DataFrame(index=[i for i in range(X.shape[0])], columns=self.model_names_list)\n",
    "\n",
    "        if self.blend is False:\n",
    "            for (model_name, model), features, method in zip(self.fit_models.items(), self.model_feature_indices, self.model_methods):\n",
    "                X_model_features = X.iloc[:, features]\n",
    "                metafeatures = self.model_predictor(model, X_model_features, method)\n",
    "                metafeatures_df[model_name] = metafeatures\n",
    "        if self.blend is True:\n",
    "            for (model_name, model_list), features, method in zip(self.fit_blended_models.items(), self.model_feature_indices, self.model_methods):\n",
    "                X_model_features = X.iloc[:, features]\n",
    "                model_df = pd.DataFrame()\n",
    "                for model_idx, model in enumerate(model_list):\n",
    "                    meta = self.model_predictor(model, X_model_features, method)\n",
    "                    model_df[model_idx] = meta\n",
    "                metafeatures = np.mean(model_df, axis=1)\n",
    "                metafeatures_df[model_name] = metafeatures\n",
    "\n",
    "        X_with_metafeatures = pd.concat([X.reset_index(drop=True), metafeatures_df.reset_index(drop=True)], axis=1)\n",
    "        return self.stacker.predict(X_with_metafeatures)"
   ],
   "id": "31ee557d04f52d65",
   "outputs": [],
   "execution_count": 21
  },
  {
   "metadata": {},
   "cell_type": "markdown",
   "source": "## Loading a dataset and separating features from the label",
   "id": "4c00eb775182fb23"
  },
  {
   "metadata": {
    "ExecuteTime": {
     "end_time": "2025-05-08T15:41:13.422706Z",
     "start_time": "2025-05-08T15:41:13.410851Z"
    }
   },
   "cell_type": "code",
   "source": [
    "df = pd.read_csv(\"VLagun_Total_Years4.csv\")\n",
    "X = df.iloc[:, 0:57].values\n",
    "y = df.iloc[:, 57].values"
   ],
   "id": "1d210e2609f71bd7",
   "outputs": [],
   "execution_count": 22
  },
  {
   "metadata": {},
   "cell_type": "markdown",
   "source": "## Data division into training and test sets (80/20)",
   "id": "e90861f9f83ea1f"
  },
  {
   "metadata": {
    "ExecuteTime": {
     "end_time": "2025-05-08T15:41:14.057184Z",
     "start_time": "2025-05-08T15:41:14.046507Z"
    }
   },
   "cell_type": "code",
   "source": [
    "X = df.iloc[:, 0:57]\n",
    "Y = df.iloc[:, 57]\n",
    "seed = 7\n",
    "test_size = 0.20\n",
    "X_train, X_test, y_train, y_test = train_test_split(X, Y, test_size=test_size, random_state=seed)\n",
    "print(\"Shape of X_train:\", X_train.shape)\n",
    "print(\"Shape of X_test:\", X_test.shape)"
   ],
   "id": "47e1306fd26d650f",
   "outputs": [
    {
     "name": "stdout",
     "output_type": "stream",
     "text": [
      "Shape of X_train: (96, 57)\n",
      "Shape of X_test: (24, 57)\n"
     ]
    }
   ],
   "execution_count": 23
  },
  {
   "metadata": {
    "ExecuteTime": {
     "end_time": "2025-05-08T15:41:14.321771Z",
     "start_time": "2025-05-08T15:41:14.313349Z"
    }
   },
   "cell_type": "code",
   "source": [
    "X_train, X_test, y_train, y_test = train_test_split(\n",
    "X, y, test_size=0.2, random_state=np.sum([ord(i) for i in 'StackerPy'])\n",
    ")"
   ],
   "id": "66a6a4d344241674",
   "outputs": [],
   "execution_count": 24
  },
  {
   "metadata": {},
   "cell_type": "markdown",
   "source": "## Preparing an empty results table",
   "id": "5aabaddaf94845a7"
  },
  {
   "metadata": {
    "ExecuteTime": {
     "end_time": "2025-05-08T15:41:17.628646Z",
     "start_time": "2025-05-08T15:41:17.623798Z"
    }
   },
   "cell_type": "code",
   "source": "results = pd.DataFrame()",
   "id": "c2b8911ececdfc15",
   "outputs": [],
   "execution_count": 25
  },
  {
   "metadata": {},
   "cell_type": "markdown",
   "source": "## Random Forest Training and Evaluation",
   "id": "f6bd7d1d6456a0a2"
  },
  {
   "metadata": {
    "ExecuteTime": {
     "end_time": "2025-05-08T15:41:19.075690Z",
     "start_time": "2025-05-08T15:41:18.844621Z"
    }
   },
   "cell_type": "code",
   "source": [
    "random_forest = RandomForestClassifier()\n",
    "random_forest.fit(X_train, np.ravel(y_train))\n",
    "random_forest_predictions = random_forest.predict(X_test)\n",
    "\n",
    "print('Original Random Forest Classifier Results')\n",
    "print(classification_report(y_test, random_forest_predictions))\n",
    "\n",
    "random_forest_accuracy = accuracy_score(y_test, random_forest_predictions)\n",
    "random_forest_recall = recall_score(y_test, random_forest_predictions)\n",
    "random_forest_precision = precision_score(y_test, random_forest_predictions)\n",
    "random_forest_f1 = f1_score(y_test, random_forest_predictions)\n",
    "\n",
    "print('Accuracy Score: ', random_forest_accuracy)\n",
    "print('Recall Score: ', random_forest_recall)\n",
    "print('Precision Score: ', random_forest_precision)\n",
    "print('F1 Score: ', random_forest_f1)"
   ],
   "id": "9d97a7e137d4b746",
   "outputs": [
    {
     "name": "stdout",
     "output_type": "stream",
     "text": [
      "Original Random Forest Classifier Results\n",
      "              precision    recall  f1-score   support\n",
      "\n",
      "           0       0.82      1.00      0.90         9\n",
      "           1       1.00      0.87      0.93        15\n",
      "\n",
      "    accuracy                           0.92        24\n",
      "   macro avg       0.91      0.93      0.91        24\n",
      "weighted avg       0.93      0.92      0.92        24\n",
      "\n",
      "Accuracy Score:  0.9166666666666666\n",
      "Recall Score:  0.8666666666666667\n",
      "Precision Score:  1.0\n",
      "F1 Score:  0.9285714285714286\n"
     ]
    }
   ],
   "execution_count": 26
  },
  {
   "metadata": {},
   "cell_type": "markdown",
   "source": "## Training and Evaluating Logistic Regression",
   "id": "399d469f24723351"
  },
  {
   "metadata": {
    "ExecuteTime": {
     "end_time": "2025-05-08T15:41:20.016722Z",
     "start_time": "2025-05-08T15:41:19.892013Z"
    }
   },
   "cell_type": "code",
   "source": [
    "logistic = LogisticRegression(solver='lbfgs', max_iter=10_000)\n",
    "logistic.fit(X_train, np.ravel(y_train))\n",
    "logistic_predictions = logistic.predict(X_test)\n",
    "\n",
    "print('Original Logistic Regression Classifier Results')\n",
    "print(classification_report(y_test, logistic_predictions))\n",
    "\n",
    "logistic_accuracy = accuracy_score(y_test, logistic_predictions)\n",
    "logistic_recall = recall_score(y_test, logistic_predictions)\n",
    "logistic_precision = precision_score(y_test, logistic_predictions)\n",
    "logistic_f1 = f1_score(y_test, logistic_predictions)\n",
    "\n",
    "print('Accuracy Score: ', logistic_accuracy)\n",
    "print('Recall Score: ', logistic_recall)\n",
    "print('Precision Score: ', logistic_precision)\n",
    "print('F1 Score: ', logistic_f1)"
   ],
   "id": "a786c91ac60a4a37",
   "outputs": [
    {
     "name": "stdout",
     "output_type": "stream",
     "text": [
      "Original Logistic Regression Classifier Results\n",
      "              precision    recall  f1-score   support\n",
      "\n",
      "           0       0.82      1.00      0.90         9\n",
      "           1       1.00      0.87      0.93        15\n",
      "\n",
      "    accuracy                           0.92        24\n",
      "   macro avg       0.91      0.93      0.91        24\n",
      "weighted avg       0.93      0.92      0.92        24\n",
      "\n",
      "Accuracy Score:  0.9166666666666666\n",
      "Recall Score:  0.8666666666666667\n",
      "Precision Score:  1.0\n",
      "F1 Score:  0.9285714285714286\n"
     ]
    }
   ],
   "execution_count": 27
  },
  {
   "metadata": {},
   "cell_type": "markdown",
   "source": "## Decision Tree Training and Evaluation",
   "id": "cb80d1c7eda67753"
  },
  {
   "metadata": {
    "ExecuteTime": {
     "end_time": "2025-05-08T15:41:24.333704Z",
     "start_time": "2025-05-08T15:41:24.303969Z"
    }
   },
   "cell_type": "code",
   "source": [
    "dtree = DecisionTreeClassifier()\n",
    "dtree.fit(X_train, np.ravel(y_train))\n",
    "dtree_predictions = dtree.predict(X_test)\n",
    "\n",
    "print('Original Decision Tree Classifier Results')\n",
    "print(classification_report(y_test, dtree_predictions))\n",
    "\n",
    "dtree_accuracy = accuracy_score(y_test, dtree_predictions)\n",
    "dtree_recall = recall_score(y_test, dtree_predictions)\n",
    "dtree_precision = precision_score(y_test, dtree_predictions)\n",
    "dtree_f1 = f1_score(y_test, dtree_predictions)\n",
    "\n",
    "print('Accuracy Score: ', dtree_accuracy)\n",
    "print('Recall Score: ', dtree_recall)\n",
    "print('Precision Score: ', dtree_precision)\n",
    "print('F1 Score: ', dtree_f1)"
   ],
   "id": "8b70a17ddd441a0a",
   "outputs": [
    {
     "name": "stdout",
     "output_type": "stream",
     "text": [
      "Original Decision Tree Classifier Results\n",
      "              precision    recall  f1-score   support\n",
      "\n",
      "           0       0.80      0.89      0.84         9\n",
      "           1       0.93      0.87      0.90        15\n",
      "\n",
      "    accuracy                           0.88        24\n",
      "   macro avg       0.86      0.88      0.87        24\n",
      "weighted avg       0.88      0.88      0.88        24\n",
      "\n",
      "Accuracy Score:  0.875\n",
      "Recall Score:  0.8666666666666667\n",
      "Precision Score:  0.9285714285714286\n",
      "F1 Score:  0.896551724137931\n"
     ]
    }
   ],
   "execution_count": 28
  },
  {
   "metadata": {},
   "cell_type": "markdown",
   "source": "## Ridge Classifier Training and Evaluation",
   "id": "ce1d2c0ebe452895"
  },
  {
   "metadata": {
    "ExecuteTime": {
     "end_time": "2025-05-08T15:41:27.514732Z",
     "start_time": "2025-05-08T15:41:27.477577Z"
    }
   },
   "cell_type": "code",
   "source": [
    "ridge = RidgeClassifier()\n",
    "ridge.fit(X_train, np.ravel(y_train))\n",
    "ridge_predictions = ridge.predict(X_test)\n",
    "\n",
    "print('Original Ridge Classifier Results')\n",
    "print(classification_report(y_test, ridge_predictions))\n",
    "\n",
    "ridge_accuracy = accuracy_score(y_test, ridge_predictions)\n",
    "ridge_recall = recall_score(y_test, ridge_predictions)\n",
    "ridge_precision = precision_score(y_test, ridge_predictions)\n",
    "ridge_f1 = f1_score(y_test, ridge_predictions)\n",
    "\n",
    "print('Accuracy Score: ', ridge_accuracy)\n",
    "print('Recall Score: ', ridge_recall)\n",
    "print('Precision Score: ', ridge_precision)\n",
    "print('F1 Score: ', ridge_f1)"
   ],
   "id": "36121c2f57307ea6",
   "outputs": [
    {
     "name": "stdout",
     "output_type": "stream",
     "text": [
      "Original Ridge Classifier Results\n",
      "              precision    recall  f1-score   support\n",
      "\n",
      "           0       1.00      1.00      1.00         9\n",
      "           1       1.00      1.00      1.00        15\n",
      "\n",
      "    accuracy                           1.00        24\n",
      "   macro avg       1.00      1.00      1.00        24\n",
      "weighted avg       1.00      1.00      1.00        24\n",
      "\n",
      "Accuracy Score:  1.0\n",
      "Recall Score:  1.0\n",
      "Precision Score:  1.0\n",
      "F1 Score:  1.0\n"
     ]
    }
   ],
   "execution_count": 29
  },
  {
   "metadata": {},
   "cell_type": "markdown",
   "source": "## Training and Evaluating the Stacker Model with Blending",
   "id": "1ebc8e82e68358fd"
  },
  {
   "metadata": {
    "ExecuteTime": {
     "end_time": "2025-05-08T15:42:01.197311Z",
     "start_time": "2025-05-08T15:41:59.237908Z"
    }
   },
   "cell_type": "code",
   "source": [
    "lr2 = LogisticRegression(solver='lbfgs', max_iter=10_000)\n",
    "dt2 = DecisionTreeClassifier()\n",
    "rf2 = RandomForestClassifier(n_estimators=25)\n",
    "rc2 = RidgeClassifier()\n",
    "models = [lr2, dt2, rf2]\n",
    "\n",
    "stacker = StackerModel()\n",
    "stacker.fit(X=X_train, y=y_train, models=models, stacker=rc2, blend=True, splits=5)\n",
    "stacker_predictions = stacker.predict(X_test)\n",
    "\n",
    "print('Stacker Model Results with blending')\n",
    "print(classification_report(y_test, stacker_predictions))\n",
    "\n",
    "stacker_accuracy = accuracy_score(y_test, stacker_predictions)\n",
    "stacker_recall = recall_score(y_test, stacker_predictions)\n",
    "stacker_precision = precision_score(y_test, stacker_predictions)\n",
    "stacker_f1 = f1_score(y_test, stacker_predictions)\n",
    "\n",
    "print('Accuracy Score: ', stacker_accuracy)\n",
    "print('Recall Score: ', stacker_recall)\n",
    "print('Precision Score: ', stacker_precision)\n",
    "print('F1 Score: ', stacker_f1)"
   ],
   "id": "60c245830a4c737c",
   "outputs": [
    {
     "name": "stdout",
     "output_type": "stream",
     "text": [
      "Stacker Model Results with blending\n",
      "              precision    recall  f1-score   support\n",
      "\n",
      "           0       0.90      1.00      0.95         9\n",
      "           1       1.00      0.93      0.97        15\n",
      "\n",
      "    accuracy                           0.96        24\n",
      "   macro avg       0.95      0.97      0.96        24\n",
      "weighted avg       0.96      0.96      0.96        24\n",
      "\n",
      "Accuracy Score:  0.9583333333333334\n",
      "Recall Score:  0.9333333333333333\n",
      "Precision Score:  1.0\n",
      "F1 Score:  0.9655172413793104\n"
     ]
    }
   ],
   "execution_count": 31
  },
  {
   "metadata": {},
   "cell_type": "markdown",
   "source": "## Filling the metrics table with the results of all models",
   "id": "c077c8cb653f3b3d"
  },
  {
   "metadata": {
    "ExecuteTime": {
     "end_time": "2025-05-08T15:42:52.999199Z",
     "start_time": "2025-05-08T15:42:52.991339Z"
    }
   },
   "cell_type": "code",
   "source": [
    "results['model'] = ['Random\\nForest',\n",
    "                    'Logistic\\nRegressioon',\n",
    "                    'Decision\\nTree',\n",
    "                    'Ridge\\nClassifier',\n",
    "                    'Stacker\\nModel']\n",
    "\n",
    "results['accuracy'] = [random_forest_accuracy,\n",
    "                       logistic_accuracy,\n",
    "                       dtree_accuracy,\n",
    "                       ridge_accuracy,\n",
    "                       stacker_accuracy]\n",
    "\n",
    "results['recall'] = [random_forest_recall,\n",
    "                     logistic_recall,\n",
    "                     dtree_recall,\n",
    "                     ridge_recall,\n",
    "                     stacker_recall]\n",
    "\n",
    "results['precision'] = [random_forest_precision,\n",
    "                        logistic_precision,\n",
    "                        dtree_precision,\n",
    "                        ridge_precision,\n",
    "                        stacker_precision]\n",
    "\n",
    "results['f1'] = [random_forest_f1,\n",
    "                 logistic_f1,\n",
    "                 dtree_f1,\n",
    "                 ridge_f1,\n",
    "                 stacker_f1]"
   ],
   "id": "76062e52dd2801e0",
   "outputs": [],
   "execution_count": 32
  },
  {
   "metadata": {},
   "cell_type": "markdown",
   "source": "## Results visualization: accuracy, precision, recall, F1 comparison",
   "id": "3bdc604996a490e9"
  },
  {
   "metadata": {
    "ExecuteTime": {
     "end_time": "2025-05-08T15:44:14.397643Z",
     "start_time": "2025-05-08T15:44:13.772744Z"
    }
   },
   "cell_type": "code",
   "source": [
    "fig, axes = plt.subplots(2, 2, figsize=(15, 10))\n",
    "fig.subplots_adjust(hspace=0.3)\n",
    "((ax1, ax2), (ax3, ax4)) = axes\n",
    "\n",
    "for ax, score in zip([ax1, ax2, ax3, ax4], results.columns[1:]):\n",
    "    ax.set_title(f'{score} score')\n",
    "    ax.set_ylabel('Score')\n",
    "    results.set_index('model')[score].sort_values().plot(kind='bar', ax=ax, fontsize=10, color='#2E73A0')\n",
    "    ax.set_xlabel('Model Name')\n",
    "    ax.set_ylim([0.7, 1])\n",
    "    for tick in ax.get_xticklabels():\n",
    "        tick.set_rotation(0)\n",
    "\n",
    "plt.show()"
   ],
   "id": "d1ef7ad6b301bd40",
   "outputs": [
    {
     "data": {
      "text/plain": [
       "<Figure size 1500x1000 with 4 Axes>"
      ],
      "image/png": "[encoded data removed]"
     },
     "metadata": {},
     "output_type": "display_data"
    }
   ],
   "execution_count": 33
  }
 ],
 "metadata": {
  "kernelspec": {
   "display_name": "Python 3",
   "language": "python",
   "name": "python3"
  },
  "language_info": {
   "codemirror_mode": {
    "name": "ipython",
    "version": 2
   },
   "file_extension": ".py",
   "mimetype": "text/x-python",
   "name": "python",
   "nbconvert_exporter": "python",
   "pygments_lexer": "ipython2",
   "version": "2.7.6"
  }
 },
 "nbformat": 4,
 "nbformat_minor": 5
}

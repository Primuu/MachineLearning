{
 "cells": [
  {
   "metadata": {},
   "cell_type": "markdown",
   "source": [
    "# Adam Trentowski - 162602 - Machine Learning\n",
    "## lab_11\n",
    "## Library Imports"
   ],
   "id": "624e09bab71d6b97"
  },
  {
   "cell_type": "code",
   "id": "initial_id",
   "metadata": {
    "collapsed": true,
    "ExecuteTime": {
     "end_time": "2025-05-25T11:38:54.144121Z",
     "start_time": "2025-05-25T11:38:52.578357Z"
    }
   },
   "source": [
    "import numpy as np\n",
    "import pandas as pd\n",
    "import matplotlib.pyplot as plt\n",
    "\n",
    "# Import warnings\n",
    "import warnings\n",
    "warnings.filterwarnings('ignore')\n",
    "\n",
    "from subprocess import check_output\n",
    "\n",
    "from sklearn.model_selection import train_test_split"
   ],
   "outputs": [],
   "execution_count": 4
  },
  {
   "metadata": {},
   "cell_type": "markdown",
   "source": "## Data loading",
   "id": "a377acf70bbcab83"
  },
  {
   "metadata": {
    "ExecuteTime": {
     "end_time": "2025-05-25T11:34:51.488685Z",
     "start_time": "2025-05-25T11:34:51.296133Z"
    }
   },
   "cell_type": "code",
   "source": [
    "x_l = np.load('X.npy')\n",
    "Y_l = np.load('Y.npy')\n",
    "\n",
    "img_size = 64\n",
    "\n",
    "plt.subplot(1, 2, 1)\n",
    "plt.imshow(x_l[260].reshape(img_size, img_size))\n",
    "plt.axis('off')\n",
    "\n",
    "plt.subplot(1, 2, 2)\n",
    "plt.imshow(x_l[900].reshape(img_size, img_size))\n",
    "plt.axis('off')\n",
    "\n",
    "plt.show()"
   ],
   "id": "6cba9decab821535",
   "outputs": [
    {
     "data": {
      "text/plain": [
       "<Figure size 640x480 with 2 Axes>"
      ],
      "image/png": "[encoded data removed]"
     },
     "metadata": {},
     "output_type": "display_data"
    }
   ],
   "execution_count": 2
  },
  {
   "metadata": {},
   "cell_type": "markdown",
   "source": "## Join arrays row-wise; 0–204: zero, 205–410: one.",
   "id": "84d522713af295ac"
  },
  {
   "metadata": {
    "ExecuteTime": {
     "end_time": "2025-05-25T11:37:28.590622Z",
     "start_time": "2025-05-25T11:37:28.580417Z"
    }
   },
   "cell_type": "code",
   "source": [
    "X = np.concatenate((x_l[204:409], x_l[822:1027]), axis=0)\n",
    "\n",
    "z = np.zeros(205)\n",
    "o = np.ones(205)\n",
    "\n",
    "Y = np.concatenate((z, o), axis=0).reshape(X.shape[0], 1)\n",
    "\n",
    "print(\"X shape: \", X.shape)\n",
    "print(\"Y shape: \", Y.shape)"
   ],
   "id": "8e0944d86c2fe26d",
   "outputs": [
    {
     "name": "stdout",
     "output_type": "stream",
     "text": [
      "X shape:  (410, 64, 64)\n",
      "Y shape:  (410, 1)\n"
     ]
    }
   ],
   "execution_count": 3
  },
  {
   "metadata": {},
   "cell_type": "markdown",
   "source": "## Splitting dataset to train and test sets",
   "id": "17bc234fa52023f5"
  },
  {
   "metadata": {
    "ExecuteTime": {
     "end_time": "2025-05-25T11:39:13.665010Z",
     "start_time": "2025-05-25T11:39:13.651804Z"
    }
   },
   "cell_type": "code",
   "source": [
    "X_train, X_test, Y_train, Y_test = train_test_split(X, Y, test_size=0.15, random_state=42)\n",
    "\n",
    "number_of_train = X_train.shape[0]\n",
    "number_of_test = X_test.shape[0]\n",
    "\n",
    "X_train_flatten = X_train.reshape(number_of_train, X_train.shape[1] * X_train.shape[2])\n",
    "X_test_flatten = X_test.reshape(number_of_test, X_test.shape[1] * X_test.shape[2])\n",
    "\n",
    "print(\"X train flatten\", X_train_flatten.shape)\n",
    "print(\"X test flatten\", X_test_flatten.shape)\n",
    "\n",
    "x_train = X_train_flatten.T\n",
    "x_test = X_test_flatten.T\n",
    "y_train = Y_train.T\n",
    "y_test = Y_test.T\n",
    "\n",
    "print(\"x train: \", x_train.shape)\n",
    "print(\"x test: \", x_test.shape)\n",
    "print(\"y train: \", y_train.shape)\n",
    "print(\"y test: \", y_test.shape)"
   ],
   "id": "cbc2635896d2c3f8",
   "outputs": [
    {
     "name": "stdout",
     "output_type": "stream",
     "text": [
      "X train flatten (348, 4096)\n",
      "X test flatten (62, 4096)\n",
      "x train:  (4096, 348)\n",
      "x test:  (4096, 62)\n",
      "y train:  (1, 348)\n",
      "y test:  (1, 62)\n"
     ]
    }
   ],
   "execution_count": 5
  },
  {
   "metadata": {},
   "cell_type": "markdown",
   "source": "## Initializing parameters",
   "id": "158ea1b836d3685"
  },
  {
   "metadata": {
    "ExecuteTime": {
     "end_time": "2025-05-25T11:41:35.174928Z",
     "start_time": "2025-05-25T11:41:35.169035Z"
    }
   },
   "cell_type": "code",
   "source": [
    "def initialize_weights_and_bias(dimension):\n",
    "    w = np.full((dimension, 1), 0.01)\n",
    "    b = 0.0\n",
    "    return w, b\n",
    "\n",
    "w, b = initialize_weights_and_bias(4096)"
   ],
   "id": "8932b38f170d0549",
   "outputs": [],
   "execution_count": 6
  },
  {
   "metadata": {},
   "cell_type": "markdown",
   "source": [
    "## Calculation of z\n",
    "z = np.dot(w.T, x_train) + b"
   ],
   "id": "3cb7edcffdd0a292"
  },
  {
   "metadata": {
    "ExecuteTime": {
     "end_time": "2025-05-25T11:42:10.319456Z",
     "start_time": "2025-05-25T11:42:10.311015Z"
    }
   },
   "cell_type": "code",
   "source": [
    "def sigmoid(z):\n",
    "    y_head = 1 / (1 + np.exp(-z))\n",
    "    return y_head\n",
    "\n",
    "y_head = sigmoid(0)\n",
    "y_head"
   ],
   "id": "faf631029df7a135",
   "outputs": [
    {
     "data": {
      "text/plain": [
       "np.float64(0.5)"
      ]
     },
     "execution_count": 7,
     "metadata": {},
     "output_type": "execute_result"
    }
   ],
   "execution_count": 7
  },
  {
   "metadata": {},
   "cell_type": "markdown",
   "source": [
    "## Forward propagation steps:\n",
    "find z = w.T * x + b\n",
    "\n",
    "y_head = sigmoid(z)\n",
    "\n",
    "loss(error) = loss(y, y_head)\n",
    "\n",
    "cost = sum(loss)"
   ],
   "id": "3cc008925d6a78fd"
  },
  {
   "metadata": {
    "ExecuteTime": {
     "end_time": "2025-05-25T11:43:14.243345Z",
     "start_time": "2025-05-25T11:43:14.238088Z"
    }
   },
   "cell_type": "code",
   "source": [
    "def forward_propagation(w, b, x_train, y_train):\n",
    "    z = np.dot(w.T, x_train) + b\n",
    "    y_head = sigmoid(z)\n",
    "\n",
    "    loss = -y_train * np.log(y_head) - (1 - y_train) * np.log(1 - y_head)\n",
    "    cost = (np.sum(loss)) / x_train.shape[1]\n",
    "\n",
    "    return cost"
   ],
   "id": "2d2c47ad38997486",
   "outputs": [],
   "execution_count": 9
  },
  {
   "metadata": {},
   "cell_type": "markdown",
   "source": "## Combine forward & backward propagation using y_head.",
   "id": "1687e24b6b1bf187"
  },
  {
   "metadata": {
    "ExecuteTime": {
     "end_time": "2025-05-25T11:44:38.719483Z",
     "start_time": "2025-05-25T11:44:38.711504Z"
    }
   },
   "cell_type": "code",
   "source": [
    "def forward_backward_propagation(w, b, x_train, y_train):\n",
    "    # forward propagation\n",
    "    z = np.dot(w.T, x_train) + b\n",
    "    y_head = sigmoid(z)\n",
    "    loss = -y_train * np.log(y_head) - (1 - y_train) * np.log(1 - y_head)\n",
    "    cost = np.sum(loss) / x_train.shape[1]\n",
    "\n",
    "    # backward propagation\n",
    "    derivative_weight = np.dot(x_train, (y_head - y_train).T) / x_train.shape[1]\n",
    "    derivative_bias = np.sum(y_head - y_train) / x_train.shape[1]\n",
    "\n",
    "    gradients = {\n",
    "        \"derivative_weight\": derivative_weight,\n",
    "        \"derivative_bias\": derivative_bias\n",
    "    }\n",
    "\n",
    "    return cost, gradients"
   ],
   "id": "9a0c311538c1f075",
   "outputs": [],
   "execution_count": 10
  },
  {
   "metadata": {},
   "cell_type": "markdown",
   "source": "## Updating (learning) parameters",
   "id": "d669836b701b9e23"
  },
  {
   "metadata": {
    "ExecuteTime": {
     "end_time": "2025-05-25T11:45:19.069016Z",
     "start_time": "2025-05-25T11:45:19.061209Z"
    }
   },
   "cell_type": "code",
   "source": [
    "def update(w, b, x_train, y_train, learning_rate, number_of_iteration):\n",
    "    cost_list = []\n",
    "    cost_list2 = []\n",
    "    index = []\n",
    "\n",
    "    for i in range(number_of_iteration):\n",
    "        cost, gradients = forward_backward_propagation(w, b, x_train, y_train)\n",
    "        cost_list.append(cost)\n",
    "\n",
    "        w = w - learning_rate * gradients[\"derivative_weight\"]\n",
    "        b = b - learning_rate * gradients[\"derivative_bias\"]\n",
    "\n",
    "        if i % 10 == 0:\n",
    "            cost_list2.append(cost)\n",
    "            index.append(i)\n",
    "            print(\"Cost after iteration %i: %f\" % (i, cost))\n",
    "\n",
    "    parameters = {\"weight\": w, \"bias\": b}\n",
    "\n",
    "    plt.plot(index, cost_list2)\n",
    "    plt.xticks(index, rotation='vertical')\n",
    "    plt.xlabel(\"Number of Iteration\")\n",
    "    plt.ylabel(\"Cost\")\n",
    "    plt.show()\n",
    "\n",
    "    return parameters, gradients, cost_list"
   ],
   "id": "7346f285bb1c1bb5",
   "outputs": [],
   "execution_count": 11
  },
  {
   "metadata": {
    "ExecuteTime": {
     "end_time": "2025-05-25T11:47:06.524428Z",
     "start_time": "2025-05-25T11:47:04.661387Z"
    }
   },
   "cell_type": "code",
   "source": [
    "parameters, gradients, cost_list = update(\n",
    "    w, b, x_train, y_train,\n",
    "    learning_rate=0.009,\n",
    "    number_of_iteration=200\n",
    ")"
   ],
   "id": "9c507fee38611eb6",
   "outputs": [
    {
     "name": "stdout",
     "output_type": "stream",
     "text": [
      "Cost after iteration 0: 14.014222\n",
      "Cost after iteration 10: 1.918535\n",
      "Cost after iteration 20: 1.750365\n",
      "Cost after iteration 30: 1.653524\n",
      "Cost after iteration 40: 1.560956\n",
      "Cost after iteration 50: 1.457745\n",
      "Cost after iteration 60: 1.335495\n",
      "Cost after iteration 70: 1.191800\n",
      "Cost after iteration 80: 1.027511\n",
      "Cost after iteration 90: 0.843100\n",
      "Cost after iteration 100: 0.639890\n",
      "Cost after iteration 110: 0.432595\n",
      "Cost after iteration 120: 0.278192\n",
      "Cost after iteration 130: 0.221609\n",
      "Cost after iteration 140: 0.208972\n",
      "Cost after iteration 150: 0.203415\n",
      "Cost after iteration 160: 0.198754\n",
      "Cost after iteration 170: 0.194446\n",
      "Cost after iteration 180: 0.190433\n",
      "Cost after iteration 190: 0.186683\n"
     ]
    },
    {
     "data": {
      "text/plain": [
       "<Figure size 640x480 with 1 Axes>"
      ],
      "image/png": "[encoded data removed]"
     },
     "metadata": {},
     "output_type": "display_data"
    }
   ],
   "execution_count": 12
  },
  {
   "metadata": {},
   "cell_type": "markdown",
   "source": "## Prediction",
   "id": "b382352629abc300"
  },
  {
   "metadata": {
    "ExecuteTime": {
     "end_time": "2025-05-25T11:47:18.830486Z",
     "start_time": "2025-05-25T11:47:18.819533Z"
    }
   },
   "cell_type": "code",
   "source": [
    "def predict(w, b, x_test):\n",
    "    z = sigmoid(np.dot(w.T, x_test) + b)\n",
    "    Y_prediction = np.zeros((1, x_test.shape[1]))\n",
    "\n",
    "    # if z is bigger than 0.5, our prediction is sign one (y_head=1)\n",
    "    # if z is smaller than 0.5, our prediction is sign zero (y_head=0)\n",
    "    for i in range(z.shape[1]):\n",
    "        if z[0, i] <= 0.5:\n",
    "            Y_prediction[0, i] = 0\n",
    "        else:\n",
    "            Y_prediction[0, i] = 1\n",
    "\n",
    "    return Y_prediction\n",
    "\n",
    "predict(parameters[\"weight\"], parameters[\"bias\"], x_test)"
   ],
   "id": "b20e93d5c7377870",
   "outputs": [
    {
     "data": {
      "text/plain": [
       "array([[0., 0., 0., 0., 0., 0., 1., 1., 1., 1., 0., 1., 1., 1., 0., 0.,\n",
       "        1., 0., 0., 0., 1., 1., 0., 0., 0., 0., 1., 0., 0., 0., 1., 1.,\n",
       "        1., 0., 1., 0., 1., 1., 0., 1., 1., 1., 1., 1., 0., 1., 1., 1.,\n",
       "        0., 1., 0., 0., 0., 0., 0., 0., 0., 1., 0., 0., 0., 1.]])"
      ]
     },
     "execution_count": 13,
     "metadata": {},
     "output_type": "execute_result"
    }
   ],
   "execution_count": 13
  },
  {
   "metadata": {
    "ExecuteTime": {
     "end_time": "2025-05-25T11:48:30.836772Z",
     "start_time": "2025-05-25T11:48:29.274947Z"
    }
   },
   "cell_type": "code",
   "source": [
    "def logistic_regression(x_train, y_train, x_test, y_test, learning_rate, num_iterations):\n",
    "    dimension = x_train.shape[0]  # that is 4096\n",
    "    w, b = initialize_weights_and_bias(dimension)\n",
    "\n",
    "    parameters, gradients, cost_list = update(w, b, x_train, y_train, learning_rate, num_iterations)\n",
    "\n",
    "    y_prediction_test = predict(parameters[\"weight\"], parameters[\"bias\"], x_test)\n",
    "    y_prediction_train = predict(parameters[\"weight\"], parameters[\"bias\"], x_train)\n",
    "\n",
    "    print(\"train accuracy: {} %\".format(100 - np.mean(np.abs(y_prediction_train - y_train)) * 100))\n",
    "    print(\"test accuracy: {} %\".format(100 - np.mean(np.abs(y_prediction_test - y_test)) * 100))\n",
    "\n",
    "logistic_regression(x_train, y_train, x_test, y_test, learning_rate=0.01, num_iterations=150)"
   ],
   "id": "1eb0e1ad95b60f5b",
   "outputs": [
    {
     "name": "stdout",
     "output_type": "stream",
     "text": [
      "Cost after iteration 0: 14.014222\n",
      "Cost after iteration 10: 2.544689\n",
      "Cost after iteration 20: 2.577950\n",
      "Cost after iteration 30: 2.397999\n",
      "Cost after iteration 40: 2.185019\n",
      "Cost after iteration 50: 1.968348\n",
      "Cost after iteration 60: 1.754195\n",
      "Cost after iteration 70: 1.535079\n",
      "Cost after iteration 80: 1.297567\n",
      "Cost after iteration 90: 1.031919\n",
      "Cost after iteration 100: 0.737019\n",
      "Cost after iteration 110: 0.441355\n",
      "Cost after iteration 120: 0.252278\n",
      "Cost after iteration 130: 0.205168\n",
      "Cost after iteration 140: 0.196168\n"
     ]
    },
    {
     "data": {
      "text/plain": [
       "<Figure size 640x480 with 1 Axes>"
      ],
      "image/png": "[encoded data removed]"
     },
     "metadata": {},
     "output_type": "display_data"
    },
    {
     "name": "stdout",
     "output_type": "stream",
     "text": [
      "train accuracy: 92.816091954023 %\n",
      "test accuracy: 93.54838709677419 %\n"
     ]
    }
   ],
   "execution_count": 14
  },
  {
   "metadata": {},
   "cell_type": "markdown",
   "source": "## Logistic regression using Sklearn",
   "id": "d523e4a23bc3f3a"
  },
  {
   "metadata": {
    "ExecuteTime": {
     "end_time": "2025-05-25T11:50:14.149324Z",
     "start_time": "2025-05-25T11:50:12.967348Z"
    }
   },
   "cell_type": "code",
   "source": [
    "from sklearn import linear_model\n",
    "\n",
    "logreg = linear_model.LogisticRegression(random_state=42, max_iter=150)\n",
    "\n",
    "print(\"test accuracy: {} \".format(logreg.fit(x_train.T, y_train.T).score(x_test.T, y_test.T)))\n",
    "print(\"train accuracy: {} \".format(logreg.fit(x_train.T, y_train.T).score(x_train.T, y_train.T)))"
   ],
   "id": "dc96f96652fa87c",
   "outputs": [
    {
     "name": "stdout",
     "output_type": "stream",
     "text": [
      "test accuracy: 0.967741935483871 \n",
      "train accuracy: 1.0 \n"
     ]
    }
   ],
   "execution_count": 15
  }
 ],
 "metadata": {
  "kernelspec": {
   "display_name": "Python 3",
   "language": "python",
   "name": "python3"
  },
  "language_info": {
   "codemirror_mode": {
    "name": "ipython",
    "version": 2
   },
   "file_extension": ".py",
   "mimetype": "text/x-python",
   "name": "python",
   "nbconvert_exporter": "python",
   "pygments_lexer": "ipython2",
   "version": "2.7.6"
  }
 },
 "nbformat": 4,
 "nbformat_minor": 5
}
